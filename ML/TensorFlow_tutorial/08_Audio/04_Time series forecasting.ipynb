{
  "nbformat": 4,
  "nbformat_minor": 0,
  "metadata": {
    "accelerator": "GPU",
    "colab": {
      "name": "time_series.ipynb",
      "provenance": [],
      "collapsed_sections": [],
      "toc_visible": true
    },
    "kernelspec": {
      "display_name": "Python 3",
      "name": "python3"
    },
    "language_info": {
      "codemirror_mode": {
        "name": "ipython",
        "version": 3
      },
      "file_extension": ".py",
      "mimetype": "text/x-python",
      "name": "python",
      "nbconvert_exporter": "python",
      "pygments_lexer": "ipython3",
      "version": "3.6.9"
    }
  },
  "cells": [
    {
      "cell_type": "markdown",
      "metadata": {
        "id": "2Pmxv2ioyCRw"
      },
      "source": [
        "##### Copyright 2019 The TensorFlow Authors."
      ]
    },
    {
      "cell_type": "code",
      "metadata": {
        "cellView": "form",
        "execution": {
          "iopub.execute_input": "2021-01-21T02:33:33.675594Z",
          "iopub.status.busy": "2021-01-21T02:33:33.674875Z",
          "iopub.status.idle": "2021-01-21T02:33:33.676935Z",
          "shell.execute_reply": "2021-01-21T02:33:33.677423Z"
        },
        "id": "b-2ShX25yNWf"
      },
      "source": [
        "#@title Licensed under the Apache License, Version 2.0 (the \"License\");\n",
        "# you may not use this file except in compliance with the License.\n",
        "# You may obtain a copy of the License at\n",
        "#\n",
        "# https://www.apache.org/licenses/LICENSE-2.0\n",
        "#\n",
        "# Unless required by applicable law or agreed to in writing, software\n",
        "# distributed under the License is distributed on an \"AS IS\" BASIS,\n",
        "# WITHOUT WARRANTIES OR CONDITIONS OF ANY KIND, either express or implied.\n",
        "# See the License for the specific language governing permissions and\n",
        "# limitations under the License."
      ],
      "execution_count": 1,
      "outputs": []
    },
    {
      "cell_type": "markdown",
      "metadata": {
        "id": "pa49bUnKyRgF"
      },
      "source": [
        "# Time series forecasting"
      ]
    },
    {
      "cell_type": "markdown",
      "metadata": {
        "id": "11Ilg92myRcw"
      },
      "source": [
        "<table class=\"tfo-notebook-buttons\" align=\"left\">\n",
        "  <td>\n",
        "    <a target=\"_blank\" href=\"https://www.tensorflow.org/tutorials/structured_data/time_series\"><img src=\"https://www.tensorflow.org/images/tf_logo_32px.png\" />View on TensorFlow.org</a>\n",
        "  </td>\n",
        "  <td>\n",
        "    <a target=\"_blank\" href=\"https://colab.research.google.com/github/tensorflow/docs/blob/master/site/en/tutorials/structured_data/time_series.ipynb\"><img src=\"https://www.tensorflow.org/images/colab_logo_32px.png\" />Run in Google Colab</a>\n",
        "  </td>\n",
        "  <td>\n",
        "    <a target=\"_blank\" href=\"https://github.com/tensorflow/docs/blob/master/site/en/tutorials/structured_data/time_series.ipynb\"><img src=\"https://www.tensorflow.org/images/GitHub-Mark-32px.png\" />View source on GitHub</a>\n",
        "  </td>\n",
        "  <td>\n",
        "    <a href=\"https://storage.googleapis.com/tensorflow_docs/docs/site/en/tutorials/structured_data/time_series.ipynb\"><img src=\"https://www.tensorflow.org/images/download_logo_32px.png\" />Download notebook</a>\n",
        "  </td>\n",
        "</table>"
      ]
    },
    {
      "cell_type": "markdown",
      "metadata": {
        "id": "GU8C5qm_4vZb"
      },
      "source": [
        "This tutorial is an introduction to time series forecasting using TensorFlow. It builds a few different styles of models including Convolutional and Recurrent Neural Networks (CNNs and RNNs).\n",
        "\n",
        "This is covered in two main parts, with subsections: \n",
        "\n",
        "* Forecast for a single timestep:\n",
        "  * A single feature.\n",
        "  * All features.\n",
        "* Forecast multiple steps:\n",
        "  * Single-shot: Make the predictions all at once.\n",
        "  * Autoregressive: Make one prediction at a time and feed the output back to the model."
      ]
    },
    {
      "cell_type": "markdown",
      "metadata": {
        "id": "XVhK72Pu1cJL"
      },
      "source": [
        "## Setup"
      ]
    },
    {
      "cell_type": "code",
      "metadata": {
        "execution": {
          "iopub.execute_input": "2021-01-21T02:33:33.688365Z",
          "iopub.status.busy": "2021-01-21T02:33:33.687646Z",
          "iopub.status.idle": "2021-01-21T02:33:40.788210Z",
          "shell.execute_reply": "2021-01-21T02:33:40.787582Z"
        },
        "id": "7rZnJaGTWQw0"
      },
      "source": [
        "import os\n",
        "import datetime\n",
        "\n",
        "import IPython\n",
        "import IPython.display\n",
        "import matplotlib as mpl\n",
        "import matplotlib.pyplot as plt\n",
        "import numpy as np\n",
        "import pandas as pd\n",
        "import seaborn as sns\n",
        "import tensorflow as tf\n",
        "\n",
        "mpl.rcParams['figure.figsize'] = (8, 6)\n",
        "mpl.rcParams['axes.grid'] = False"
      ],
      "execution_count": 2,
      "outputs": []
    },
    {
      "cell_type": "markdown",
      "metadata": {
        "id": "TokBlnUhWFw9"
      },
      "source": [
        "## The weather dataset\n",
        "This tutorial uses a <a href=\"https://www.bgc-jena.mpg.de/wetter/\" class=\"external\">weather time series dataset</a> recorded by the <a href=\"https://www.bgc-jena.mpg.de\" class=\"external\">Max Planck Institute for Biogeochemistry</a>.\n",
        "\n",
        "This dataset contains 14 different features such as air temperature, atmospheric pressure, and humidity. These were collected every 10 minutes, beginning in 2003. For efficiency, you will use only the data collected between 2009 and 2016. This section of the dataset was prepared by François Chollet for his book [Deep Learning with Python](https://www.manning.com/books/deep-learning-with-python)."
      ]
    },
    {
      "cell_type": "code",
      "metadata": {
        "execution": {
          "iopub.execute_input": "2021-01-21T02:33:40.793352Z",
          "iopub.status.busy": "2021-01-21T02:33:40.792638Z",
          "iopub.status.idle": "2021-01-21T02:33:41.856681Z",
          "shell.execute_reply": "2021-01-21T02:33:41.855926Z"
        },
        "id": "xyv_i85IWInT",
        "outputId": "955c2110-2d98-451d-b2f5-1c7f6f644f7e",
        "colab": {
          "base_uri": "https://localhost:8080/"
        }
      },
      "source": [
        "zip_path = tf.keras.utils.get_file(\n",
        "    origin='https://storage.googleapis.com/tensorflow/tf-keras-datasets/jena_climate_2009_2016.csv.zip',\n",
        "    fname='jena_climate_2009_2016.csv.zip',\n",
        "    extract=True)\n",
        "csv_path, _ = os.path.splitext(zip_path)"
      ],
      "execution_count": 3,
      "outputs": [
        {
          "output_type": "stream",
          "text": [
            "Downloading data from https://storage.googleapis.com/tensorflow/tf-keras-datasets/jena_climate_2009_2016.csv.zip\n",
            "13574144/13568290 [==============================] - 0s 0us/step\n"
          ],
          "name": "stdout"
        }
      ]
    },
    {
      "cell_type": "markdown",
      "metadata": {
        "id": "R81Wx8WP4c3G"
      },
      "source": [
        "This tutorial will just deal with **hourly predictions**, so start by sub-sampling the data from 10 minute intervals to 1h:"
      ]
    },
    {
      "cell_type": "code",
      "metadata": {
        "execution": {
          "iopub.execute_input": "2021-01-21T02:33:41.862156Z",
          "iopub.status.busy": "2021-01-21T02:33:41.861470Z",
          "iopub.status.idle": "2021-01-21T02:33:42.806005Z",
          "shell.execute_reply": "2021-01-21T02:33:42.805362Z"
        },
        "id": "TX6uGeeeWIkG"
      },
      "source": [
        "df = pd.read_csv(csv_path)\n",
        "# slice [start:stop:step], starting from index 5 take every 6th record.\n",
        "df = df[5::6]\n",
        "\n",
        "date_time = pd.to_datetime(df.pop('Date Time'), format='%d.%m.%Y %H:%M:%S')"
      ],
      "execution_count": 4,
      "outputs": []
    },
    {
      "cell_type": "markdown",
      "metadata": {
        "id": "VdbOWXiTWM2T"
      },
      "source": [
        "Let's take a glance at the data. Here are the first few rows:"
      ]
    },
    {
      "cell_type": "code",
      "metadata": {
        "execution": {
          "iopub.execute_input": "2021-01-21T02:33:42.829510Z",
          "iopub.status.busy": "2021-01-21T02:33:42.822999Z",
          "iopub.status.idle": "2021-01-21T02:33:42.833554Z",
          "shell.execute_reply": "2021-01-21T02:33:42.834000Z"
        },
        "id": "ojHE-iCCWIhz",
        "outputId": "9f4c989e-ea80-44fa-a262-08d2bbce8ab0",
        "colab": {
          "base_uri": "https://localhost:8080/",
          "height": 257
        }
      },
      "source": [
        "df.head()"
      ],
      "execution_count": 5,
      "outputs": [
        {
          "output_type": "execute_result",
          "data": {
            "text/html": [
              "<div>\n",
              "<style scoped>\n",
              "    .dataframe tbody tr th:only-of-type {\n",
              "        vertical-align: middle;\n",
              "    }\n",
              "\n",
              "    .dataframe tbody tr th {\n",
              "        vertical-align: top;\n",
              "    }\n",
              "\n",
              "    .dataframe thead th {\n",
              "        text-align: right;\n",
              "    }\n",
              "</style>\n",
              "<table border=\"1\" class=\"dataframe\">\n",
              "  <thead>\n",
              "    <tr style=\"text-align: right;\">\n",
              "      <th></th>\n",
              "      <th>p (mbar)</th>\n",
              "      <th>T (degC)</th>\n",
              "      <th>Tpot (K)</th>\n",
              "      <th>Tdew (degC)</th>\n",
              "      <th>rh (%)</th>\n",
              "      <th>VPmax (mbar)</th>\n",
              "      <th>VPact (mbar)</th>\n",
              "      <th>VPdef (mbar)</th>\n",
              "      <th>sh (g/kg)</th>\n",
              "      <th>H2OC (mmol/mol)</th>\n",
              "      <th>rho (g/m**3)</th>\n",
              "      <th>wv (m/s)</th>\n",
              "      <th>max. wv (m/s)</th>\n",
              "      <th>wd (deg)</th>\n",
              "    </tr>\n",
              "  </thead>\n",
              "  <tbody>\n",
              "    <tr>\n",
              "      <th>5</th>\n",
              "      <td>996.50</td>\n",
              "      <td>-8.05</td>\n",
              "      <td>265.38</td>\n",
              "      <td>-8.78</td>\n",
              "      <td>94.4</td>\n",
              "      <td>3.33</td>\n",
              "      <td>3.14</td>\n",
              "      <td>0.19</td>\n",
              "      <td>1.96</td>\n",
              "      <td>3.15</td>\n",
              "      <td>1307.86</td>\n",
              "      <td>0.21</td>\n",
              "      <td>0.63</td>\n",
              "      <td>192.7</td>\n",
              "    </tr>\n",
              "    <tr>\n",
              "      <th>11</th>\n",
              "      <td>996.62</td>\n",
              "      <td>-8.88</td>\n",
              "      <td>264.54</td>\n",
              "      <td>-9.77</td>\n",
              "      <td>93.2</td>\n",
              "      <td>3.12</td>\n",
              "      <td>2.90</td>\n",
              "      <td>0.21</td>\n",
              "      <td>1.81</td>\n",
              "      <td>2.91</td>\n",
              "      <td>1312.25</td>\n",
              "      <td>0.25</td>\n",
              "      <td>0.63</td>\n",
              "      <td>190.3</td>\n",
              "    </tr>\n",
              "    <tr>\n",
              "      <th>17</th>\n",
              "      <td>996.84</td>\n",
              "      <td>-8.81</td>\n",
              "      <td>264.59</td>\n",
              "      <td>-9.66</td>\n",
              "      <td>93.5</td>\n",
              "      <td>3.13</td>\n",
              "      <td>2.93</td>\n",
              "      <td>0.20</td>\n",
              "      <td>1.83</td>\n",
              "      <td>2.94</td>\n",
              "      <td>1312.18</td>\n",
              "      <td>0.18</td>\n",
              "      <td>0.63</td>\n",
              "      <td>167.2</td>\n",
              "    </tr>\n",
              "    <tr>\n",
              "      <th>23</th>\n",
              "      <td>996.99</td>\n",
              "      <td>-9.05</td>\n",
              "      <td>264.34</td>\n",
              "      <td>-10.02</td>\n",
              "      <td>92.6</td>\n",
              "      <td>3.07</td>\n",
              "      <td>2.85</td>\n",
              "      <td>0.23</td>\n",
              "      <td>1.78</td>\n",
              "      <td>2.85</td>\n",
              "      <td>1313.61</td>\n",
              "      <td>0.10</td>\n",
              "      <td>0.38</td>\n",
              "      <td>240.0</td>\n",
              "    </tr>\n",
              "    <tr>\n",
              "      <th>29</th>\n",
              "      <td>997.46</td>\n",
              "      <td>-9.63</td>\n",
              "      <td>263.72</td>\n",
              "      <td>-10.65</td>\n",
              "      <td>92.2</td>\n",
              "      <td>2.94</td>\n",
              "      <td>2.71</td>\n",
              "      <td>0.23</td>\n",
              "      <td>1.69</td>\n",
              "      <td>2.71</td>\n",
              "      <td>1317.19</td>\n",
              "      <td>0.40</td>\n",
              "      <td>0.88</td>\n",
              "      <td>157.0</td>\n",
              "    </tr>\n",
              "  </tbody>\n",
              "</table>\n",
              "</div>"
            ],
            "text/plain": [
              "    p (mbar)  T (degC)  Tpot (K)  ...  wv (m/s)  max. wv (m/s)  wd (deg)\n",
              "5     996.50     -8.05    265.38  ...      0.21           0.63     192.7\n",
              "11    996.62     -8.88    264.54  ...      0.25           0.63     190.3\n",
              "17    996.84     -8.81    264.59  ...      0.18           0.63     167.2\n",
              "23    996.99     -9.05    264.34  ...      0.10           0.38     240.0\n",
              "29    997.46     -9.63    263.72  ...      0.40           0.88     157.0\n",
              "\n",
              "[5 rows x 14 columns]"
            ]
          },
          "metadata": {
            "tags": []
          },
          "execution_count": 5
        }
      ]
    },
    {
      "cell_type": "markdown",
      "metadata": {
        "id": "WRzj1inMfgcO"
      },
      "source": [
        "Here is the evolution of a few features over time. "
      ]
    },
    {
      "cell_type": "code",
      "metadata": {
        "execution": {
          "iopub.execute_input": "2021-01-21T02:33:42.841466Z",
          "iopub.status.busy": "2021-01-21T02:33:42.840779Z",
          "iopub.status.idle": "2021-01-21T02:33:44.547531Z",
          "shell.execute_reply": "2021-01-21T02:33:44.547986Z"
        },
        "id": "Vg5XIc5tfNlG",
        "outputId": "35ff135e-fae1-429d-bacc-2babe9185f55",
        "colab": {
          "base_uri": "https://localhost:8080/",
          "height": 739
        }
      },
      "source": [
        "plot_cols = ['T (degC)', 'p (mbar)', 'rho (g/m**3)']\n",
        "plot_features = df[plot_cols]\n",
        "plot_features.index = date_time\n",
        "_ = plot_features.plot(subplots=True)\n",
        "\n",
        "plot_features = df[plot_cols][:480]\n",
        "plot_features.index = date_time[:480]\n",
        "_ = plot_features.plot(subplots=True)"
      ],
      "execution_count": 6,
      "outputs": [
        {
          "output_type": "display_data",
          "data": {
            "image/png": "[encoded data removed]",
            "text/plain": [
              "<Figure size 576x432 with 3 Axes>"
            ]
          },
          "metadata": {
            "tags": [],
            "needs_background": "light"
          }
        },
        {
          "output_type": "display_data",
          "data": {
            "image/png": "[encoded data removed]",
            "text/plain": [
              "<Figure size 576x432 with 3 Axes>"
            ]
          },
          "metadata": {
            "tags": [],
            "needs_background": "light"
          }
        }
      ]
    },
    {
      "cell_type": "markdown",
      "metadata": {
        "id": "wXWLG0_WBhZS"
      },
      "source": [
        "### Inspect and cleanup"
      ]
    },
    {
      "cell_type": "markdown",
      "metadata": {
        "id": "yhmZXJew6GlS"
      },
      "source": [
        "Next look at the statistics of the dataset:"
      ]
    },
    {
      "cell_type": "code",
      "metadata": {
        "execution": {
          "iopub.execute_input": "2021-01-21T02:33:44.559673Z",
          "iopub.status.busy": "2021-01-21T02:33:44.558939Z",
          "iopub.status.idle": "2021-01-21T02:33:44.648481Z",
          "shell.execute_reply": "2021-01-21T02:33:44.647805Z"
        },
        "id": "h510pgKVrrai",
        "outputId": "d22da253-4155-4f29-c1ac-08d46a366589",
        "colab": {
          "base_uri": "https://localhost:8080/",
          "height": 478
        }
      },
      "source": [
        "df.describe().transpose()"
      ],
      "execution_count": 7,
      "outputs": [
        {
          "output_type": "execute_result",
          "data": {
            "text/html": [
              "<div>\n",
              "<style scoped>\n",
              "    .dataframe tbody tr th:only-of-type {\n",
              "        vertical-align: middle;\n",
              "    }\n",
              "\n",
              "    .dataframe tbody tr th {\n",
              "        vertical-align: top;\n",
              "    }\n",
              "\n",
              "    .dataframe thead th {\n",
              "        text-align: right;\n",
              "    }\n",
              "</style>\n",
              "<table border=\"1\" class=\"dataframe\">\n",
              "  <thead>\n",
              "    <tr style=\"text-align: right;\">\n",
              "      <th></th>\n",
              "      <th>count</th>\n",
              "      <th>mean</th>\n",
              "      <th>std</th>\n",
              "      <th>min</th>\n",
              "      <th>25%</th>\n",
              "      <th>50%</th>\n",
              "      <th>75%</th>\n",
              "      <th>max</th>\n",
              "    </tr>\n",
              "  </thead>\n",
              "  <tbody>\n",
              "    <tr>\n",
              "      <th>p (mbar)</th>\n",
              "      <td>70091.0</td>\n",
              "      <td>989.212842</td>\n",
              "      <td>8.358886</td>\n",
              "      <td>913.60</td>\n",
              "      <td>984.20</td>\n",
              "      <td>989.57</td>\n",
              "      <td>994.720</td>\n",
              "      <td>1015.29</td>\n",
              "    </tr>\n",
              "    <tr>\n",
              "      <th>T (degC)</th>\n",
              "      <td>70091.0</td>\n",
              "      <td>9.450482</td>\n",
              "      <td>8.423384</td>\n",
              "      <td>-22.76</td>\n",
              "      <td>3.35</td>\n",
              "      <td>9.41</td>\n",
              "      <td>15.480</td>\n",
              "      <td>37.28</td>\n",
              "    </tr>\n",
              "    <tr>\n",
              "      <th>Tpot (K)</th>\n",
              "      <td>70091.0</td>\n",
              "      <td>283.493086</td>\n",
              "      <td>8.504424</td>\n",
              "      <td>250.85</td>\n",
              "      <td>277.44</td>\n",
              "      <td>283.46</td>\n",
              "      <td>289.530</td>\n",
              "      <td>311.21</td>\n",
              "    </tr>\n",
              "    <tr>\n",
              "      <th>Tdew (degC)</th>\n",
              "      <td>70091.0</td>\n",
              "      <td>4.956471</td>\n",
              "      <td>6.730081</td>\n",
              "      <td>-24.80</td>\n",
              "      <td>0.24</td>\n",
              "      <td>5.21</td>\n",
              "      <td>10.080</td>\n",
              "      <td>23.06</td>\n",
              "    </tr>\n",
              "    <tr>\n",
              "      <th>rh (%)</th>\n",
              "      <td>70091.0</td>\n",
              "      <td>76.009788</td>\n",
              "      <td>16.474920</td>\n",
              "      <td>13.88</td>\n",
              "      <td>65.21</td>\n",
              "      <td>79.30</td>\n",
              "      <td>89.400</td>\n",
              "      <td>100.00</td>\n",
              "    </tr>\n",
              "    <tr>\n",
              "      <th>VPmax (mbar)</th>\n",
              "      <td>70091.0</td>\n",
              "      <td>13.576576</td>\n",
              "      <td>7.739883</td>\n",
              "      <td>0.97</td>\n",
              "      <td>7.77</td>\n",
              "      <td>11.82</td>\n",
              "      <td>17.610</td>\n",
              "      <td>63.77</td>\n",
              "    </tr>\n",
              "    <tr>\n",
              "      <th>VPact (mbar)</th>\n",
              "      <td>70091.0</td>\n",
              "      <td>9.533968</td>\n",
              "      <td>4.183658</td>\n",
              "      <td>0.81</td>\n",
              "      <td>6.22</td>\n",
              "      <td>8.86</td>\n",
              "      <td>12.360</td>\n",
              "      <td>28.25</td>\n",
              "    </tr>\n",
              "    <tr>\n",
              "      <th>VPdef (mbar)</th>\n",
              "      <td>70091.0</td>\n",
              "      <td>4.042536</td>\n",
              "      <td>4.898549</td>\n",
              "      <td>0.00</td>\n",
              "      <td>0.87</td>\n",
              "      <td>2.19</td>\n",
              "      <td>5.300</td>\n",
              "      <td>46.01</td>\n",
              "    </tr>\n",
              "    <tr>\n",
              "      <th>sh (g/kg)</th>\n",
              "      <td>70091.0</td>\n",
              "      <td>6.022560</td>\n",
              "      <td>2.655812</td>\n",
              "      <td>0.51</td>\n",
              "      <td>3.92</td>\n",
              "      <td>5.59</td>\n",
              "      <td>7.800</td>\n",
              "      <td>18.07</td>\n",
              "    </tr>\n",
              "    <tr>\n",
              "      <th>H2OC (mmol/mol)</th>\n",
              "      <td>70091.0</td>\n",
              "      <td>9.640437</td>\n",
              "      <td>4.234862</td>\n",
              "      <td>0.81</td>\n",
              "      <td>6.29</td>\n",
              "      <td>8.96</td>\n",
              "      <td>12.490</td>\n",
              "      <td>28.74</td>\n",
              "    </tr>\n",
              "    <tr>\n",
              "      <th>rho (g/m**3)</th>\n",
              "      <td>70091.0</td>\n",
              "      <td>1216.061232</td>\n",
              "      <td>39.974263</td>\n",
              "      <td>1059.45</td>\n",
              "      <td>1187.47</td>\n",
              "      <td>1213.80</td>\n",
              "      <td>1242.765</td>\n",
              "      <td>1393.54</td>\n",
              "    </tr>\n",
              "    <tr>\n",
              "      <th>wv (m/s)</th>\n",
              "      <td>70091.0</td>\n",
              "      <td>1.702567</td>\n",
              "      <td>65.447512</td>\n",
              "      <td>-9999.00</td>\n",
              "      <td>0.99</td>\n",
              "      <td>1.76</td>\n",
              "      <td>2.860</td>\n",
              "      <td>14.01</td>\n",
              "    </tr>\n",
              "    <tr>\n",
              "      <th>max. wv (m/s)</th>\n",
              "      <td>70091.0</td>\n",
              "      <td>2.963041</td>\n",
              "      <td>75.597657</td>\n",
              "      <td>-9999.00</td>\n",
              "      <td>1.76</td>\n",
              "      <td>2.98</td>\n",
              "      <td>4.740</td>\n",
              "      <td>23.50</td>\n",
              "    </tr>\n",
              "    <tr>\n",
              "      <th>wd (deg)</th>\n",
              "      <td>70091.0</td>\n",
              "      <td>174.789095</td>\n",
              "      <td>86.619431</td>\n",
              "      <td>0.00</td>\n",
              "      <td>125.30</td>\n",
              "      <td>198.10</td>\n",
              "      <td>234.000</td>\n",
              "      <td>360.00</td>\n",
              "    </tr>\n",
              "  </tbody>\n",
              "</table>\n",
              "</div>"
            ],
            "text/plain": [
              "                   count         mean        std  ...      50%       75%      max\n",
              "p (mbar)         70091.0   989.212842   8.358886  ...   989.57   994.720  1015.29\n",
              "T (degC)         70091.0     9.450482   8.423384  ...     9.41    15.480    37.28\n",
              "Tpot (K)         70091.0   283.493086   8.504424  ...   283.46   289.530   311.21\n",
              "Tdew (degC)      70091.0     4.956471   6.730081  ...     5.21    10.080    23.06\n",
              "rh (%)           70091.0    76.009788  16.474920  ...    79.30    89.400   100.00\n",
              "VPmax (mbar)     70091.0    13.576576   7.739883  ...    11.82    17.610    63.77\n",
              "VPact (mbar)     70091.0     9.533968   4.183658  ...     8.86    12.360    28.25\n",
              "VPdef (mbar)     70091.0     4.042536   4.898549  ...     2.19     5.300    46.01\n",
              "sh (g/kg)        70091.0     6.022560   2.655812  ...     5.59     7.800    18.07\n",
              "H2OC (mmol/mol)  70091.0     9.640437   4.234862  ...     8.96    12.490    28.74\n",
              "rho (g/m**3)     70091.0  1216.061232  39.974263  ...  1213.80  1242.765  1393.54\n",
              "wv (m/s)         70091.0     1.702567  65.447512  ...     1.76     2.860    14.01\n",
              "max. wv (m/s)    70091.0     2.963041  75.597657  ...     2.98     4.740    23.50\n",
              "wd (deg)         70091.0   174.789095  86.619431  ...   198.10   234.000   360.00\n",
              "\n",
              "[14 rows x 8 columns]"
            ]
          },
          "metadata": {
            "tags": []
          },
          "execution_count": 7
        }
      ]
    },
    {
      "cell_type": "markdown",
      "metadata": {
        "id": "TzOTnWOoWMGK"
      },
      "source": [
        "#### Wind velocity"
      ]
    },
    {
      "cell_type": "markdown",
      "metadata": {
        "id": "i47LiW5DCVsP"
      },
      "source": [
        "One thing that should stand out is the `min` value of the wind velocity, `wv (m/s)` and `max. wv (m/s)` columns. This `-9999` is likely erroneous. There's a separate wind direction column, so the velocity should be `>=0`. Replace it with zeros:\n"
      ]
    },
    {
      "cell_type": "code",
      "metadata": {
        "execution": {
          "iopub.execute_input": "2021-01-21T02:33:44.654566Z",
          "iopub.status.busy": "2021-01-21T02:33:44.653825Z",
          "iopub.status.idle": "2021-01-21T02:33:44.667757Z",
          "shell.execute_reply": "2021-01-21T02:33:44.668176Z"
        },
        "id": "qFOq0_80vF4d",
        "outputId": "2020c394-128a-4b33-e19a-14dcfd4b53a7",
        "colab": {
          "base_uri": "https://localhost:8080/"
        }
      },
      "source": [
        "wv = df['wv (m/s)']\n",
        "bad_wv = wv == -9999.0\n",
        "wv[bad_wv] = 0.0\n",
        "\n",
        "max_wv = df['max. wv (m/s)']\n",
        "bad_max_wv = max_wv == -9999.0\n",
        "max_wv[bad_max_wv] = 0.0\n",
        "\n",
        "# The above inplace edits are reflected in the DataFrame\n",
        "df['wv (m/s)'].min()"
      ],
      "execution_count": 8,
      "outputs": [
        {
          "output_type": "execute_result",
          "data": {
            "text/plain": [
              "0.0"
            ]
          },
          "metadata": {
            "tags": []
          },
          "execution_count": 8
        }
      ]
    },
    {
      "cell_type": "markdown",
      "metadata": {
        "id": "vtmu2IBPgPG8"
      },
      "source": [
        "### Feature engineering\n",
        "\n",
        "Before diving in to build a model it's important to understand your data, and be sure that you're passing the model appropriately formatted data."
      ]
    },
    {
      "cell_type": "markdown",
      "metadata": {
        "id": "FYyEaqiD6j4s"
      },
      "source": [
        "#### Wind\n",
        "The last column of the data, `wd (deg)`, gives the wind direction in units of degrees. Angles do not make good model inputs, 360° and 0° should be close to each other, and wrap around smoothly. Direction shouldn't matter if the wind is not blowing. \n",
        "\n",
        "Right now the distribution of wind data looks like this:"
      ]
    },
    {
      "cell_type": "code",
      "metadata": {
        "execution": {
          "iopub.execute_input": "2021-01-21T02:33:44.687924Z",
          "iopub.status.busy": "2021-01-21T02:33:44.687079Z",
          "iopub.status.idle": "2021-01-21T02:33:44.931498Z",
          "shell.execute_reply": "2021-01-21T02:33:44.931949Z"
        },
        "id": "YO7JGTcWQG2z",
        "outputId": "c8483d34-eebc-45cb-ca12-805fb99bc94b",
        "colab": {
          "base_uri": "https://localhost:8080/",
          "height": 409
        }
      },
      "source": [
        "plt.hist2d(df['wd (deg)'], df['wv (m/s)'], bins=(50, 50), vmax=400)\n",
        "plt.colorbar()\n",
        "plt.xlabel('Wind Direction [deg]')\n",
        "plt.ylabel('Wind Velocity [m/s]')"
      ],
      "execution_count": 9,
      "outputs": [
        {
          "output_type": "execute_result",
          "data": {
            "text/plain": [
              "Text(0, 0.5, 'Wind Velocity [m/s]')"
            ]
          },
          "metadata": {
            "tags": []
          },
          "execution_count": 9
        },
        {
          "output_type": "display_data",
          "data": {
            "image/png": "[encoded data removed]",
            "text/plain": [
              "<Figure size 576x432 with 2 Axes>"
            ]
          },
          "metadata": {
            "tags": [],
            "needs_background": "light"
          }
        }
      ]
    },
    {
      "cell_type": "markdown",
      "metadata": {
        "id": "yWnf5dwMU1_g"
      },
      "source": [
        "But this will be easier for the model to interpret if you convert the wind direction and velocity columns to a wind **vector**:"
      ]
    },
    {
      "cell_type": "code",
      "metadata": {
        "execution": {
          "iopub.execute_input": "2021-01-21T02:33:44.938619Z",
          "iopub.status.busy": "2021-01-21T02:33:44.937889Z",
          "iopub.status.idle": "2021-01-21T02:33:44.967908Z",
          "shell.execute_reply": "2021-01-21T02:33:44.967185Z"
        },
        "id": "6GmSTHXw6lI1"
      },
      "source": [
        "wv = df.pop('wv (m/s)')\n",
        "max_wv = df.pop('max. wv (m/s)')\n",
        "\n",
        "# Convert to radians.\n",
        "wd_rad = df.pop('wd (deg)')*np.pi / 180\n",
        "\n",
        "# Calculate the wind x and y components.\n",
        "df['Wx'] = wv*np.cos(wd_rad)\n",
        "df['Wy'] = wv*np.sin(wd_rad)\n",
        "\n",
        "# Calculate the max wind x and y components.\n",
        "df['max Wx'] = max_wv*np.cos(wd_rad)\n",
        "df['max Wy'] = max_wv*np.sin(wd_rad)"
      ],
      "execution_count": 10,
      "outputs": []
    },
    {
      "cell_type": "markdown",
      "metadata": {
        "id": "7iI0zDoxWDyB"
      },
      "source": [
        "The distribution of wind vectors is much simpler for the model to correctly interpret."
      ]
    },
    {
      "cell_type": "code",
      "metadata": {
        "execution": {
          "iopub.execute_input": "2021-01-21T02:33:44.990441Z",
          "iopub.status.busy": "2021-01-21T02:33:44.989550Z",
          "iopub.status.idle": "2021-01-21T02:33:45.228553Z",
          "shell.execute_reply": "2021-01-21T02:33:45.228980Z"
        },
        "id": "bMgCG5o2SYKD",
        "outputId": "947ff35f-00c2-43ba-c015-9e42226aaff0",
        "colab": {
          "base_uri": "https://localhost:8080/",
          "height": 409
        }
      },
      "source": [
        "plt.hist2d(df['Wx'], df['Wy'], bins=(50, 50), vmax=400)\n",
        "plt.colorbar()\n",
        "plt.xlabel('Wind X [m/s]')\n",
        "plt.ylabel('Wind Y [m/s]')\n",
        "ax = plt.gca()\n",
        "ax.axis('tight')"
      ],
      "execution_count": 11,
      "outputs": [
        {
          "output_type": "execute_result",
          "data": {
            "text/plain": [
              "(-11.305513973134667, 8.24469928549079, -8.27438540335515, 7.7338312955467785)"
            ]
          },
          "metadata": {
            "tags": []
          },
          "execution_count": 11
        },
        {
          "output_type": "display_data",
          "data": {
            "image/png": "[encoded data removed]",
            "text/plain": [
              "<Figure size 576x432 with 2 Axes>"
            ]
          },
          "metadata": {
            "tags": [],
            "needs_background": "light"
          }
        }
      ]
    },
    {
      "cell_type": "markdown",
      "metadata": {
        "id": "_8im1ttOWlRB"
      },
      "source": [
        "#### Time"
      ]
    },
    {
      "cell_type": "markdown",
      "metadata": {
        "id": "7YE21HKK40zQ"
      },
      "source": [
        "Similarly the `Date Time` column is very useful, but not in this string form. Start by converting it to seconds:"
      ]
    },
    {
      "cell_type": "code",
      "metadata": {
        "execution": {
          "iopub.execute_input": "2021-01-21T02:33:45.238250Z",
          "iopub.status.busy": "2021-01-21T02:33:45.232915Z",
          "iopub.status.idle": "2021-01-21T02:33:45.695360Z",
          "shell.execute_reply": "2021-01-21T02:33:45.694685Z"
        },
        "id": "LIFf-VjMfnh3"
      },
      "source": [
        "timestamp_s = date_time.map(datetime.datetime.timestamp)"
      ],
      "execution_count": 12,
      "outputs": []
    },
    {
      "cell_type": "markdown",
      "metadata": {
        "id": "EC_pnM1D5Sgc"
      },
      "source": [
        "Similar to the wind direction the time in seconds is not a useful model input. Being weather data it has clear daily and yearly periodicity. There are many ways you could deal with periodicity.\n",
        "\n",
        "A simple approach to convert it to a usable signal is to use `sin` and `cos` to convert the time to clear \"Time of day\" and \"Time of year\" signals:"
      ]
    },
    {
      "cell_type": "code",
      "metadata": {
        "execution": {
          "iopub.execute_input": "2021-01-21T02:33:45.702166Z",
          "iopub.status.busy": "2021-01-21T02:33:45.701390Z",
          "iopub.status.idle": "2021-01-21T02:33:45.715973Z",
          "shell.execute_reply": "2021-01-21T02:33:45.715344Z"
        },
        "id": "MBfX6CDwax73"
      },
      "source": [
        "day = 24*60*60\n",
        "year = (365.2425)*day\n",
        "\n",
        "df['Day sin'] = np.sin(timestamp_s * (2 * np.pi / day))\n",
        "df['Day cos'] = np.cos(timestamp_s * (2 * np.pi / day))\n",
        "df['Year sin'] = np.sin(timestamp_s * (2 * np.pi / year))\n",
        "df['Year cos'] = np.cos(timestamp_s * (2 * np.pi / year))"
      ],
      "execution_count": 13,
      "outputs": []
    },
    {
      "cell_type": "code",
      "metadata": {
        "execution": {
          "iopub.execute_input": "2021-01-21T02:33:45.730890Z",
          "iopub.status.busy": "2021-01-21T02:33:45.720788Z",
          "iopub.status.idle": "2021-01-21T02:33:45.881958Z",
          "shell.execute_reply": "2021-01-21T02:33:45.882495Z"
        },
        "id": "mXBbTJZfuuTC",
        "outputId": "b0d7160f-fa35-4226-bcea-e78cb86417f0",
        "colab": {
          "base_uri": "https://localhost:8080/",
          "height": 421
        }
      },
      "source": [
        "plt.plot(np.array(df['Day sin'])[:25])\n",
        "plt.plot(np.array(df['Day cos'])[:25])\n",
        "plt.xlabel('Time [h]')\n",
        "plt.title('Time of day signal')"
      ],
      "execution_count": 14,
      "outputs": [
        {
          "output_type": "execute_result",
          "data": {
            "text/plain": [
              "Text(0.5, 1.0, 'Time of day signal')"
            ]
          },
          "metadata": {
            "tags": []
          },
          "execution_count": 14
        },
        {
          "output_type": "display_data",
          "data": {
            "image/png": "[encoded data removed]",
            "text/plain": [
              "<Figure size 576x432 with 1 Axes>"
            ]
          },
          "metadata": {
            "tags": [],
            "needs_background": "light"
          }
        }
      ]
    },
    {
      "cell_type": "markdown",
      "metadata": {
        "id": "HiurzTGQgf_D"
      },
      "source": [
        "This gives the model access to the most important frequency features. In this case you knew ahead of time which frequencies were important. \n",
        "\n",
        "If you didn't know, you can determine which frequencies are important using an `fft`. To check our assumptions, here is the `tf.signal.rfft` of the temperature over time. Note the obvious peaks at frequencies near `1/year` and `1/day`: "
      ]
    },
    {
      "cell_type": "code",
      "metadata": {
        "execution": {
          "iopub.execute_input": "2021-01-21T02:33:47.551680Z",
          "iopub.status.busy": "2021-01-21T02:33:46.854546Z",
          "iopub.status.idle": "2021-01-21T02:33:48.521269Z",
          "shell.execute_reply": "2021-01-21T02:33:48.521725Z"
        },
        "id": "EN4U1fcMiTYs",
        "outputId": "666ceb13-0aea-4779-9453-f60b8df8e39f",
        "colab": {
          "base_uri": "https://localhost:8080/",
          "height": 392
        }
      },
      "source": [
        "fft = tf.signal.rfft(df['T (degC)'])\n",
        "f_per_dataset = np.arange(0, len(fft))\n",
        "\n",
        "n_samples_h = len(df['T (degC)'])\n",
        "hours_per_year = 24*365.2524\n",
        "years_per_dataset = n_samples_h/(hours_per_year)\n",
        "\n",
        "f_per_year = f_per_dataset/years_per_dataset\n",
        "plt.step(f_per_year, np.abs(fft))\n",
        "plt.xscale('log')\n",
        "plt.ylim(0, 400000)\n",
        "plt.xlim([0.1, max(plt.xlim())])\n",
        "plt.xticks([1, 365.2524], labels=['1/Year', '1/day'])\n",
        "_ = plt.xlabel('Frequency (log scale)')"
      ],
      "execution_count": 15,
      "outputs": [
        {
          "output_type": "display_data",
          "data": {
            "image/png": "[encoded data removed]",
            "text/plain": [
              "<Figure size 576x432 with 1 Axes>"
            ]
          },
          "metadata": {
            "tags": [],
            "needs_background": "light"
          }
        }
      ]
    },
    {
      "cell_type": "markdown",
      "metadata": {
        "id": "2rbL8bSGDHy3"
      },
      "source": [
        "### Split the data"
      ]
    },
    {
      "cell_type": "markdown",
      "metadata": {
        "id": "qoFJZmXBaxCc"
      },
      "source": [
        "We'll use a `(70%, 20%, 10%)` split for the training, validation, and test sets. Note the data is **not** being randomly shuffled before splitting. This is for two reasons.\n",
        "\n",
        "1. It ensures that chopping the data into windows of consecutive samples is still possible.\n",
        "2. It ensures that the validation/test results are more realistic, being evaluated on data collected after the model was trained."
      ]
    },
    {
      "cell_type": "code",
      "metadata": {
        "execution": {
          "iopub.execute_input": "2021-01-21T02:33:48.528085Z",
          "iopub.status.busy": "2021-01-21T02:33:48.527406Z",
          "iopub.status.idle": "2021-01-21T02:33:48.529719Z",
          "shell.execute_reply": "2021-01-21T02:33:48.529105Z"
        },
        "id": "ia-MPAHxbInX"
      },
      "source": [
        "column_indices = {name: i for i, name in enumerate(df.columns)}\n",
        "\n",
        "n = len(df)\n",
        "train_df = df[0:int(n*0.7)]\n",
        "val_df = df[int(n*0.7):int(n*0.9)]\n",
        "test_df = df[int(n*0.9):]\n",
        "\n",
        "num_features = df.shape[1]"
      ],
      "execution_count": 16,
      "outputs": []
    },
    {
      "cell_type": "markdown",
      "metadata": {
        "id": "-eFckdUUHWmT"
      },
      "source": [
        "### Normalize the data\n",
        "\n",
        "It is important to scale features before training a neural network. Normalization is a common way of doing this scaling. Subtract the mean and divide by the standard deviation of each feature."
      ]
    },
    {
      "cell_type": "markdown",
      "metadata": {
        "id": "mxbIic5TMlxx"
      },
      "source": [
        "The mean and standard deviation should only be computed using the training data so that the models have no access to the values in the validation and test sets.\n",
        "\n",
        "It's also arguable that the model shouldn't have access to future values in the training set when training, and that this normalization should be done using moving averages. That's not the focus of this tutorial, and the validation and test sets ensure that you get (somewhat) honest metrics. So in the interest of simplicity this tutorial uses a simple average."
      ]
    },
    {
      "cell_type": "code",
      "metadata": {
        "execution": {
          "iopub.execute_input": "2021-01-21T02:33:48.535072Z",
          "iopub.status.busy": "2021-01-21T02:33:48.534317Z",
          "iopub.status.idle": "2021-01-21T02:33:48.576786Z",
          "shell.execute_reply": "2021-01-21T02:33:48.576093Z"
        },
        "id": "Eji6njXvHusN"
      },
      "source": [
        "train_mean = train_df.mean()\n",
        "train_std = train_df.std()\n",
        "\n",
        "train_df = (train_df - train_mean) / train_std\n",
        "val_df = (val_df - train_mean) / train_std\n",
        "test_df = (test_df - train_mean) / train_std"
      ],
      "execution_count": 17,
      "outputs": []
    },
    {
      "cell_type": "markdown",
      "metadata": {
        "id": "G6ufs8kk9JQw"
      },
      "source": [
        "Now peek at the distribution of the features. Some features do have long tails, but there are no obvious errors like the `-9999` wind velocity value."
      ]
    },
    {
      "cell_type": "code",
      "metadata": {
        "execution": {
          "iopub.execute_input": "2021-01-21T02:33:48.582993Z",
          "iopub.status.busy": "2021-01-21T02:33:48.582265Z",
          "iopub.status.idle": "2021-01-21T02:33:54.428338Z",
          "shell.execute_reply": "2021-01-21T02:33:54.428830Z"
        },
        "id": "T0UYEnkwm8Fe",
        "outputId": "7caeeb69-e6c6-4b17-974c-971c59860d32",
        "colab": {
          "base_uri": "https://localhost:8080/",
          "height": 467
        }
      },
      "source": [
        "df_std = (df - train_mean) / train_std\n",
        "df_std = df_std.melt(var_name='Column', value_name='Normalized')\n",
        "plt.figure(figsize=(12, 6))\n",
        "ax = sns.violinplot(x='Column', y='Normalized', data=df_std)\n",
        "_ = ax.set_xticklabels(df.keys(), rotation=90)"
      ],
      "execution_count": 18,
      "outputs": [
        {
          "output_type": "display_data",
          "data": {
            "image/png": "[encoded data removed]",
            "text/plain": [
              "<Figure size 864x432 with 1 Axes>"
            ]
          },
          "metadata": {
            "tags": [],
            "needs_background": "light"
          }
        }
      ]
    },
    {
      "cell_type": "markdown",
      "metadata": {
        "id": "ZBBmdxZ2HgfJ"
      },
      "source": [
        "## Data windowing\n",
        "\n",
        "The models in this tutorial will make a set of predictions based on a window of consecutive samples from the data. \n",
        "\n",
        "The main features of the input windows are:\n",
        "\n",
        "* The width (number of time steps) of the input and label windows\n",
        "* The time offset between them.\n",
        "* Which features are used as inputs, labels, or both. \n",
        "\n",
        "This tutorial builds a variety of models (including Linear, DNN, CNN and RNN models), and uses them for both:\n",
        "\n",
        "* *Single-output*, and *multi-output* predictions.\n",
        "* *Single-time-step* and *multi-time-step* predictions.\n",
        "\n",
        "This section focuses on implementing the data windowing so that it can be reused for all of those models.\n"
      ]
    },
    {
      "cell_type": "markdown",
      "metadata": {
        "id": "YAhGUVx1jtOy"
      },
      "source": [
        "Depending on the task and type of model you may want to generate a variety of data windows. Here are some examples:\n",
        "\n",
        "1. For example, to make a single prediction 24h into the future, given 24h of history you might define a window like this:\n",
        "\n",
        "  ![One prediction 24h into the future.](https://github.com/blacksnail789521/Programming_Practice/blob/master/ML/TensorFlow_tutorial/08_Audio/images/raw_window_24h.png?raw=1)\n",
        "\n",
        "2. A model that makes a prediction 1h into the future, given 6h of history would need a window like this:\n",
        "\n",
        "  ![One prediction 1h into the future.](https://github.com/blacksnail789521/Programming_Practice/blob/master/ML/TensorFlow_tutorial/08_Audio/images/raw_window_1h.png?raw=1)"
      ]
    },
    {
      "cell_type": "markdown",
      "metadata": {
        "id": "sa2BbfNZt8wy"
      },
      "source": [
        "The rest of this section defines a `WindowGenerator` class. This class can:\n",
        "\n",
        "1. Handle the indexes and offsets as shown in the diagrams above.\n",
        "1. Split windows of features into a `(features, labels)` pairs.\n",
        "2. Plot the content of the resulting windows.\n",
        "3. Efficiently generate batches of these windows from the training, evaluation, and test data, using `tf.data.Dataset`s."
      ]
    },
    {
      "cell_type": "markdown",
      "metadata": {
        "id": "rfx3jGjyziUF"
      },
      "source": [
        "### 1. Indexes and offsets\n",
        "\n",
        "Start by creating the `WindowGenerator` class. The `__init__` method includes all the necessary logic for the input and label indices.\n",
        "\n",
        "It also takes the train, eval, and test dataframes as input. These will be converted to `tf.data.Dataset`s of windows later."
      ]
    },
    {
      "cell_type": "code",
      "metadata": {
        "execution": {
          "iopub.execute_input": "2021-01-21T02:33:54.439366Z",
          "iopub.status.busy": "2021-01-21T02:33:54.438603Z",
          "iopub.status.idle": "2021-01-21T02:33:54.440612Z",
          "shell.execute_reply": "2021-01-21T02:33:54.441030Z"
        },
        "id": "Kem30j8QHxyW"
      },
      "source": [
        "class WindowGenerator():\n",
        "  def __init__(self, input_width, label_width, shift,\n",
        "               train_df=train_df, val_df=val_df, test_df=test_df,\n",
        "               label_columns=None):\n",
        "    # Store the raw data.\n",
        "    self.train_df = train_df\n",
        "    self.val_df = val_df\n",
        "    self.test_df = test_df\n",
        "\n",
        "    # Work out the label column indices.\n",
        "    self.label_columns = label_columns\n",
        "    if label_columns is not None:\n",
        "      self.label_columns_indices = {name: i for i, name in\n",
        "                                    enumerate(label_columns)}\n",
        "    self.column_indices = {name: i for i, name in\n",
        "                           enumerate(train_df.columns)}\n",
        "\n",
        "    # Work out the window parameters.\n",
        "    self.input_width = input_width\n",
        "    self.label_width = label_width\n",
        "    self.shift = shift\n",
        "\n",
        "    self.total_window_size = input_width + shift\n",
        "\n",
        "    self.input_slice = slice(0, input_width)\n",
        "    self.input_indices = np.arange(self.total_window_size)[self.input_slice]\n",
        "\n",
        "    self.label_start = self.total_window_size - self.label_width\n",
        "    self.labels_slice = slice(self.label_start, None)\n",
        "    self.label_indices = np.arange(self.total_window_size)[self.labels_slice]\n",
        "\n",
        "  def __repr__(self):\n",
        "    return '\\n'.join([\n",
        "        f'Total window size: {self.total_window_size}',\n",
        "        f'Input indices: {self.input_indices}',\n",
        "        f'Label indices: {self.label_indices}',\n",
        "        f'Label column name(s): {self.label_columns}'])"
      ],
      "execution_count": 19,
      "outputs": []
    },
    {
      "cell_type": "markdown",
      "metadata": {
        "id": "yVJgblsYzL1g"
      },
      "source": [
        "Here is code to create the 2 windows shown in the diagrams at the start of this section:"
      ]
    },
    {
      "cell_type": "code",
      "metadata": {
        "execution": {
          "iopub.execute_input": "2021-01-21T02:33:54.446255Z",
          "iopub.status.busy": "2021-01-21T02:33:54.445524Z",
          "iopub.status.idle": "2021-01-21T02:33:54.447952Z",
          "shell.execute_reply": "2021-01-21T02:33:54.448401Z"
        },
        "id": "IsM5kRkz0UwK",
        "outputId": "f646c32a-0c5c-425f-8372-b748c571a395",
        "colab": {
          "base_uri": "https://localhost:8080/"
        }
      },
      "source": [
        "w1 = WindowGenerator(input_width=24, label_width=1, shift=24,\n",
        "                     label_columns=['T (degC)'])\n",
        "w1"
      ],
      "execution_count": 20,
      "outputs": [
        {
          "output_type": "execute_result",
          "data": {
            "text/plain": [
              "Total window size: 48\n",
              "Input indices: [ 0  1  2  3  4  5  6  7  8  9 10 11 12 13 14 15 16 17 18 19 20 21 22 23]\n",
              "Label indices: [47]\n",
              "Label column name(s): ['T (degC)']"
            ]
          },
          "metadata": {
            "tags": []
          },
          "execution_count": 20
        }
      ]
    },
    {
      "cell_type": "code",
      "metadata": {
        "execution": {
          "iopub.execute_input": "2021-01-21T02:33:54.453221Z",
          "iopub.status.busy": "2021-01-21T02:33:54.452486Z",
          "iopub.status.idle": "2021-01-21T02:33:54.455016Z",
          "shell.execute_reply": "2021-01-21T02:33:54.455455Z"
        },
        "id": "viwKsYeAKFUn",
        "outputId": "af204a0a-3f66-4b3d-9e96-8e18fdaff488",
        "colab": {
          "base_uri": "https://localhost:8080/"
        }
      },
      "source": [
        "w2 = WindowGenerator(input_width=6, label_width=1, shift=1,\n",
        "                     label_columns=['T (degC)'])\n",
        "w2"
      ],
      "execution_count": 21,
      "outputs": [
        {
          "output_type": "execute_result",
          "data": {
            "text/plain": [
              "Total window size: 7\n",
              "Input indices: [0 1 2 3 4 5]\n",
              "Label indices: [6]\n",
              "Label column name(s): ['T (degC)']"
            ]
          },
          "metadata": {
            "tags": []
          },
          "execution_count": 21
        }
      ]
    },
    {
      "cell_type": "markdown",
      "metadata": {
        "id": "kJaUyTWQJd-L"
      },
      "source": [
        "### 2. Split\n",
        "Given a list consecutive inputs, the `split_window` method will convert them to a window of inputs and a window of labels.\n",
        "\n",
        "The example `w2`, above, will be split like this:\n",
        "\n",
        "![The initial window is all consecutive samples, this splits it into an (inputs, labels) pairs](https://github.com/blacksnail789521/Programming_Practice/blob/master/ML/TensorFlow_tutorial/08_Audio/images/split_window.png?raw=1)\n",
        "\n",
        "This diagram doesn't show the `features` axis of the data, but this `split_window` function also handles the `label_columns` so it can be used for both the single output and multi-output examples."
      ]
    },
    {
      "cell_type": "code",
      "metadata": {
        "execution": {
          "iopub.execute_input": "2021-01-21T02:33:54.461582Z",
          "iopub.status.busy": "2021-01-21T02:33:54.460909Z",
          "iopub.status.idle": "2021-01-21T02:33:54.462827Z",
          "shell.execute_reply": "2021-01-21T02:33:54.463242Z"
        },
        "id": "W4KbxfzqkXPW"
      },
      "source": [
        "def split_window(self, features):\n",
        "  inputs = features[:, self.input_slice, :]\n",
        "  labels = features[:, self.labels_slice, :]\n",
        "  if self.label_columns is not None:\n",
        "    labels = tf.stack(\n",
        "        [labels[:, :, self.column_indices[name]] for name in self.label_columns],\n",
        "        axis=-1)\n",
        "\n",
        "  # Slicing doesn't preserve static shape information, so set the shapes\n",
        "  # manually. This way the `tf.data.Datasets` are easier to inspect.\n",
        "  inputs.set_shape([None, self.input_width, None])\n",
        "  labels.set_shape([None, self.label_width, None])\n",
        "\n",
        "  return inputs, labels\n",
        "\n",
        "WindowGenerator.split_window = split_window"
      ],
      "execution_count": 22,
      "outputs": []
    },
    {
      "cell_type": "markdown",
      "metadata": {
        "id": "G6U6VtVuM15s"
      },
      "source": [
        "Try it out:"
      ]
    },
    {
      "cell_type": "code",
      "metadata": {
        "execution": {
          "iopub.execute_input": "2021-01-21T02:33:54.470111Z",
          "iopub.status.busy": "2021-01-21T02:33:54.469413Z",
          "iopub.status.idle": "2021-01-21T02:33:54.473501Z",
          "shell.execute_reply": "2021-01-21T02:33:54.473912Z"
        },
        "id": "YeCWbq6KLmL7",
        "outputId": "c02b1008-3e3d-45aa-9284-774046cd0c36",
        "colab": {
          "base_uri": "https://localhost:8080/"
        }
      },
      "source": [
        "# Stack three slices, the length of the total window:\n",
        "example_window = tf.stack([np.array(train_df[:w2.total_window_size]),\n",
        "                           np.array(train_df[100:100+w2.total_window_size]),\n",
        "                           np.array(train_df[200:200+w2.total_window_size])])\n",
        "\n",
        "\n",
        "example_inputs, example_labels = w2.split_window(example_window)\n",
        "\n",
        "print('All shapes are: (batch, time, features)')\n",
        "print(f'Window shape: {example_window.shape}')\n",
        "print(f'Inputs shape: {example_inputs.shape}')\n",
        "print(f'labels shape: {example_labels.shape}')"
      ],
      "execution_count": 23,
      "outputs": [
        {
          "output_type": "stream",
          "text": [
            "All shapes are: (batch, time, features)\n",
            "Window shape: (3, 7, 19)\n",
            "Inputs shape: (3, 6, 19)\n",
            "labels shape: (3, 1, 1)\n"
          ],
          "name": "stdout"
        }
      ]
    },
    {
      "cell_type": "markdown",
      "metadata": {
        "id": "xtMk1ffk2Mmd"
      },
      "source": [
        "Typically data in TensorFlow is packed into arrays where the outermost index is across examples (the \"batch\" dimension). The middle indices are the \"time\" or \"space\" (width, height) dimension(s). The innermost indices are the features.\n",
        "\n",
        "The code above took a batch of 3, 7-timestep windows, with 19 features at each time step. It split them into a batch of 6-timestep, 19 feature inputs, and a 1-timestep 1-feature label. The label only has one feature because the `WindowGenerator` was initialized with `label_columns=['T (degC)']`. Initially this tutorial will build models that predict single output labels."
      ]
    },
    {
      "cell_type": "markdown",
      "metadata": {
        "id": "tFZukGXrJoGo"
      },
      "source": [
        "### 3. Plot\n",
        "\n",
        "Here is a plot method that allows a simple visualization of the split window:"
      ]
    },
    {
      "cell_type": "code",
      "metadata": {
        "execution": {
          "iopub.execute_input": "2021-01-21T02:33:54.478182Z",
          "iopub.status.busy": "2021-01-21T02:33:54.477533Z",
          "iopub.status.idle": "2021-01-21T02:33:54.479649Z",
          "shell.execute_reply": "2021-01-21T02:33:54.480059Z"
        },
        "id": "fmgd1qkYUWT7"
      },
      "source": [
        "w2.example = example_inputs, example_labels"
      ],
      "execution_count": 24,
      "outputs": []
    },
    {
      "cell_type": "code",
      "metadata": {
        "execution": {
          "iopub.execute_input": "2021-01-21T02:33:54.489443Z",
          "iopub.status.busy": "2021-01-21T02:33:54.488564Z",
          "iopub.status.idle": "2021-01-21T02:33:54.490372Z",
          "shell.execute_reply": "2021-01-21T02:33:54.490824Z"
        },
        "id": "jIrYccI-Hm3B"
      },
      "source": [
        "def plot(self, model=None, plot_col='T (degC)', max_subplots=3):\n",
        "  inputs, labels = self.example\n",
        "  plt.figure(figsize=(12, 8))\n",
        "  plot_col_index = self.column_indices[plot_col]\n",
        "  max_n = min(max_subplots, len(inputs))\n",
        "  for n in range(max_n):\n",
        "    plt.subplot(3, 1, n+1)\n",
        "    plt.ylabel(f'{plot_col} [normed]')\n",
        "    plt.plot(self.input_indices, inputs[n, :, plot_col_index],\n",
        "             label='Inputs', marker='.', zorder=-10)\n",
        "\n",
        "    if self.label_columns:\n",
        "      label_col_index = self.label_columns_indices.get(plot_col, None)\n",
        "    else:\n",
        "      label_col_index = plot_col_index\n",
        "\n",
        "    if label_col_index is None:\n",
        "      continue\n",
        "\n",
        "    plt.scatter(self.label_indices, labels[n, :, label_col_index],\n",
        "                edgecolors='k', label='Labels', c='#2ca02c', s=64)\n",
        "    if model is not None:\n",
        "      predictions = model(inputs)\n",
        "      plt.scatter(self.label_indices, predictions[n, :, label_col_index],\n",
        "                  marker='X', edgecolors='k', label='Predictions',\n",
        "                  c='#ff7f0e', s=64)\n",
        "\n",
        "    if n == 0:\n",
        "      plt.legend()\n",
        "\n",
        "  plt.xlabel('Time [h]')\n",
        "\n",
        "WindowGenerator.plot = plot"
      ],
      "execution_count": 25,
      "outputs": []
    },
    {
      "cell_type": "markdown",
      "metadata": {
        "id": "HXvctEuK68vX"
      },
      "source": [
        "This plot aligns inputs, labels, and (later) predictions based on the time that the item refers to:"
      ]
    },
    {
      "cell_type": "code",
      "metadata": {
        "execution": {
          "iopub.execute_input": "2021-01-21T02:33:54.508925Z",
          "iopub.status.busy": "2021-01-21T02:33:54.507999Z",
          "iopub.status.idle": "2021-01-21T02:33:54.919248Z",
          "shell.execute_reply": "2021-01-21T02:33:54.919705Z"
        },
        "id": "XjTqUnglOOni",
        "outputId": "5027f8b5-25a8-4c11-a0a5-702b9a1550ea",
        "colab": {
          "base_uri": "https://localhost:8080/",
          "height": 497
        }
      },
      "source": [
        "w2.plot()"
      ],
      "execution_count": 26,
      "outputs": [
        {
          "output_type": "display_data",
          "data": {
            "image/png": "[encoded data removed]",
            "text/plain": [
              "<Figure size 864x576 with 3 Axes>"
            ]
          },
          "metadata": {
            "tags": [],
            "needs_background": "light"
          }
        }
      ]
    },
    {
      "cell_type": "markdown",
      "metadata": {
        "id": "UqiqcPOldPG6"
      },
      "source": [
        "You can plot the other columns, but the example window `w2` configuration only has labels for the `T (degC)` column."
      ]
    },
    {
      "cell_type": "code",
      "metadata": {
        "execution": {
          "iopub.execute_input": "2021-01-21T02:33:54.936725Z",
          "iopub.status.busy": "2021-01-21T02:33:54.924318Z",
          "iopub.status.idle": "2021-01-21T02:33:55.399843Z",
          "shell.execute_reply": "2021-01-21T02:33:55.400305Z"
        },
        "id": "EBRe4wnlfCH8",
        "outputId": "d5cb57f4-d45a-45f7-fdb3-9d39830df808",
        "colab": {
          "base_uri": "https://localhost:8080/",
          "height": 497
        }
      },
      "source": [
        "w2.plot(plot_col='p (mbar)')"
      ],
      "execution_count": 27,
      "outputs": [
        {
          "output_type": "display_data",
          "data": {
            "image/png": "[encoded data removed]",
            "text/plain": [
              "<Figure size 864x576 with 3 Axes>"
            ]
          },
          "metadata": {
            "tags": [],
            "needs_background": "light"
          }
        }
      ]
    },
    {
      "cell_type": "markdown",
      "metadata": {
        "id": "xCvD-UaUzYMw"
      },
      "source": [
        "### 4. Create `tf.data.Dataset`s"
      ]
    },
    {
      "cell_type": "markdown",
      "metadata": {
        "id": "kLO3SFR9Osdf"
      },
      "source": [
        "Finally this `make_dataset` method will take a time series `DataFrame` and convert it to a `tf.data.Dataset` of `(input_window, label_window)` pairs using the `preprocessing.timeseries_dataset_from_array` function."
      ]
    },
    {
      "cell_type": "code",
      "metadata": {
        "execution": {
          "iopub.execute_input": "2021-01-21T02:33:55.406412Z",
          "iopub.status.busy": "2021-01-21T02:33:55.405664Z",
          "iopub.status.idle": "2021-01-21T02:33:55.407731Z",
          "shell.execute_reply": "2021-01-21T02:33:55.408140Z"
        },
        "id": "35qoSQeRVfJg"
      },
      "source": [
        "def make_dataset(self, data):\n",
        "  data = np.array(data, dtype=np.float32)\n",
        "  ds = tf.keras.preprocessing.timeseries_dataset_from_array(\n",
        "      data=data,\n",
        "      targets=None,\n",
        "      sequence_length=self.total_window_size,\n",
        "      sequence_stride=1,\n",
        "      shuffle=True,\n",
        "      batch_size=32,)\n",
        "\n",
        "  ds = ds.map(self.split_window)\n",
        "\n",
        "  return ds\n",
        "\n",
        "WindowGenerator.make_dataset = make_dataset"
      ],
      "execution_count": 28,
      "outputs": []
    },
    {
      "cell_type": "markdown",
      "metadata": {
        "id": "LvsxQwJaCift"
      },
      "source": [
        "The `WindowGenerator` object holds training, validation and test data. Add properties for accessing them as `tf.data.Datasets` using the above `make_dataset` method. Also add a standard example batch for easy access and plotting:"
      ]
    },
    {
      "cell_type": "code",
      "metadata": {
        "execution": {
          "iopub.execute_input": "2021-01-21T02:33:55.415239Z",
          "iopub.status.busy": "2021-01-21T02:33:55.414486Z",
          "iopub.status.idle": "2021-01-21T02:33:55.417204Z",
          "shell.execute_reply": "2021-01-21T02:33:55.416599Z"
        },
        "id": "2jZ2KkqGCfzu"
      },
      "source": [
        "@property\n",
        "def train(self):\n",
        "  return self.make_dataset(self.train_df)\n",
        "\n",
        "@property\n",
        "def val(self):\n",
        "  return self.make_dataset(self.val_df)\n",
        "\n",
        "@property\n",
        "def test(self):\n",
        "  return self.make_dataset(self.test_df)\n",
        "\n",
        "@property\n",
        "def example(self):\n",
        "  \"\"\"Get and cache an example batch of `inputs, labels` for plotting.\"\"\"\n",
        "  result = getattr(self, '_example', None)\n",
        "  if result is None:\n",
        "    # No example batch was found, so get one from the `.train` dataset\n",
        "    result = next(iter(self.train))\n",
        "    # And cache it for next time\n",
        "    self._example = result\n",
        "  return result\n",
        "\n",
        "WindowGenerator.train = train\n",
        "WindowGenerator.val = val\n",
        "WindowGenerator.test = test\n",
        "WindowGenerator.example = example"
      ],
      "execution_count": 29,
      "outputs": []
    },
    {
      "cell_type": "markdown",
      "metadata": {
        "id": "fF_Vj6Iw3Y2w"
      },
      "source": [
        "Now the `WindowGenerator` object gives you access to the `tf.data.Dataset` objects, so you can easily iterate over the data.\n",
        "\n",
        "The `Dataset.element_spec` property tells you the structure, `dtypes` and shapes of the dataset elements."
      ]
    },
    {
      "cell_type": "code",
      "metadata": {
        "execution": {
          "iopub.execute_input": "2021-01-21T02:33:55.421191Z",
          "iopub.status.busy": "2021-01-21T02:33:55.420537Z",
          "iopub.status.idle": "2021-01-21T02:33:55.558919Z",
          "shell.execute_reply": "2021-01-21T02:33:55.559334Z"
        },
        "id": "daJ0-U383YVs",
        "outputId": "75fb010e-684e-4c80-ca8e-cf41cf5dddba",
        "colab": {
          "base_uri": "https://localhost:8080/"
        }
      },
      "source": [
        "# Each element is an (inputs, label) pair\n",
        "w2.train.element_spec"
      ],
      "execution_count": 30,
      "outputs": [
        {
          "output_type": "execute_result",
          "data": {
            "text/plain": [
              "(TensorSpec(shape=(None, 6, 19), dtype=tf.float32, name=None),\n",
              " TensorSpec(shape=(None, 1, 1), dtype=tf.float32, name=None))"
            ]
          },
          "metadata": {
            "tags": []
          },
          "execution_count": 30
        }
      ]
    },
    {
      "cell_type": "markdown",
      "metadata": {
        "id": "XKTx3_Z7ua-n"
      },
      "source": [
        "Iterating over a `Dataset` yields concrete batches:"
      ]
    },
    {
      "cell_type": "code",
      "metadata": {
        "execution": {
          "iopub.execute_input": "2021-01-21T02:33:55.563945Z",
          "iopub.status.busy": "2021-01-21T02:33:55.563288Z",
          "iopub.status.idle": "2021-01-21T02:33:55.651470Z",
          "shell.execute_reply": "2021-01-21T02:33:55.650869Z"
        },
        "id": "6gtKXEgf4Iml",
        "outputId": "52a9635a-ebf6-49eb-e816-910097f68b66",
        "colab": {
          "base_uri": "https://localhost:8080/"
        }
      },
      "source": [
        "for example_inputs, example_labels in w2.train.take(1):\n",
        "  print(f'Inputs shape (batch, time, features): {example_inputs.shape}')\n",
        "  print(f'Labels shape (batch, time, features): {example_labels.shape}')"
      ],
      "execution_count": 31,
      "outputs": [
        {
          "output_type": "stream",
          "text": [
            "Inputs shape (batch, time, features): (32, 6, 19)\n",
            "Labels shape (batch, time, features): (32, 1, 1)\n"
          ],
          "name": "stdout"
        }
      ]
    },
    {
      "cell_type": "markdown",
      "metadata": {
        "id": "LyuGuJUgjUK3"
      },
      "source": [
        "## Single step models\n",
        "\n",
        "The simplest model you can build on this sort of data is one that predicts a single feature's value, 1 timestep (1h) in the future based only on the current conditions.\n",
        "\n",
        "So start by building models to predict the `T (degC)` value 1h into the future.\n",
        "\n",
        "![Predict the next time step](https://github.com/blacksnail789521/Programming_Practice/blob/master/ML/TensorFlow_tutorial/08_Audio/images/narrow_window.png?raw=1)\n",
        "\n",
        "Configure a `WindowGenerator` object to produce these single-step `(input, label)` pairs:"
      ]
    },
    {
      "cell_type": "code",
      "metadata": {
        "execution": {
          "iopub.execute_input": "2021-01-21T02:33:55.657818Z",
          "iopub.status.busy": "2021-01-21T02:33:55.656925Z",
          "iopub.status.idle": "2021-01-21T02:33:55.660163Z",
          "shell.execute_reply": "2021-01-21T02:33:55.660671Z"
        },
        "id": "G5QX1G1JTPCr",
        "outputId": "652d6750-e46e-4b01-ad0a-40549734573b",
        "colab": {
          "base_uri": "https://localhost:8080/"
        }
      },
      "source": [
        "single_step_window = WindowGenerator(\n",
        "    input_width=1, label_width=1, shift=1,\n",
        "    label_columns=['T (degC)'])\n",
        "single_step_window"
      ],
      "execution_count": 32,
      "outputs": [
        {
          "output_type": "execute_result",
          "data": {
            "text/plain": [
              "Total window size: 2\n",
              "Input indices: [0]\n",
              "Label indices: [1]\n",
              "Label column name(s): ['T (degC)']"
            ]
          },
          "metadata": {
            "tags": []
          },
          "execution_count": 32
        }
      ]
    },
    {
      "cell_type": "markdown",
      "metadata": {
        "id": "RKTm8ajVGw4N"
      },
      "source": [
        "The `window` object creates `tf.data.Datasets` from the training, validation, and test sets, allowing you to easily iterate over batches of data.\n"
      ]
    },
    {
      "cell_type": "code",
      "metadata": {
        "execution": {
          "iopub.execute_input": "2021-01-21T02:33:55.666039Z",
          "iopub.status.busy": "2021-01-21T02:33:55.665310Z",
          "iopub.status.idle": "2021-01-21T02:33:55.746636Z",
          "shell.execute_reply": "2021-01-21T02:33:55.747111Z"
        },
        "id": "Do4ILUaBF8oc",
        "outputId": "716ff9b6-e090-4f28-8bd6-e1354a0f4dff",
        "colab": {
          "base_uri": "https://localhost:8080/"
        }
      },
      "source": [
        "for example_inputs, example_labels in single_step_window.train.take(1):\n",
        "  print(f'Inputs shape (batch, time, features): {example_inputs.shape}')\n",
        "  print(f'Labels shape (batch, time, features): {example_labels.shape}')"
      ],
      "execution_count": 33,
      "outputs": [
        {
          "output_type": "stream",
          "text": [
            "Inputs shape (batch, time, features): (32, 1, 19)\n",
            "Labels shape (batch, time, features): (32, 1, 1)\n"
          ],
          "name": "stdout"
        }
      ]
    },
    {
      "cell_type": "markdown",
      "metadata": {
        "id": "D1bbPiR3VAm_"
      },
      "source": [
        "### Baseline\n",
        "\n",
        "Before building a trainable model it would be good to have a performance baseline as a point for comparison with the later more complicated models.\n",
        "\n",
        "This first task is to predict temperature 1h in the future given the current value of all features. The current values include the current temperature. \n",
        "\n",
        "So start with a model that just returns the current temperature as the prediction, predicting \"No change\". This is a reasonable baseline since temperature changes slowly. Of course, this baseline will work less well if you make a prediction further in the future.\n",
        "\n",
        "![Send the input to the output](https://github.com/blacksnail789521/Programming_Practice/blob/master/ML/TensorFlow_tutorial/08_Audio/images/baseline.png?raw=1)"
      ]
    },
    {
      "cell_type": "code",
      "metadata": {
        "execution": {
          "iopub.execute_input": "2021-01-21T02:33:55.753164Z",
          "iopub.status.busy": "2021-01-21T02:33:55.752475Z",
          "iopub.status.idle": "2021-01-21T02:33:55.754942Z",
          "shell.execute_reply": "2021-01-21T02:33:55.754403Z"
        },
        "id": "9TybQaIsi3yg"
      },
      "source": [
        "class Baseline(tf.keras.Model):\n",
        "  def __init__(self, label_index=None):\n",
        "    super().__init__()\n",
        "    self.label_index = label_index\n",
        "\n",
        "  def call(self, inputs):\n",
        "    if self.label_index is None:\n",
        "      return inputs\n",
        "    result = inputs[:, :, self.label_index]\n",
        "    return result[:, :, tf.newaxis]"
      ],
      "execution_count": 34,
      "outputs": []
    },
    {
      "cell_type": "markdown",
      "metadata": {
        "id": "0vb3f948i8p8"
      },
      "source": [
        "Instantiate and evaluate this model:"
      ]
    },
    {
      "cell_type": "code",
      "metadata": {
        "execution": {
          "iopub.execute_input": "2021-01-21T02:33:55.760384Z",
          "iopub.status.busy": "2021-01-21T02:33:55.759739Z",
          "iopub.status.idle": "2021-01-21T02:33:57.500326Z",
          "shell.execute_reply": "2021-01-21T02:33:57.499708Z"
        },
        "id": "IS3-QKc4sX0D",
        "outputId": "1cae620a-2ce6-4dd7-f31d-bf7fe5c47b6c",
        "colab": {
          "base_uri": "https://localhost:8080/"
        }
      },
      "source": [
        "baseline = Baseline(label_index=column_indices['T (degC)'])\n",
        "\n",
        "baseline.compile(loss=tf.losses.MeanSquaredError(),\n",
        "                 metrics=[tf.metrics.MeanAbsoluteError()])\n",
        "\n",
        "val_performance = {}\n",
        "performance = {}\n",
        "val_performance['Baseline'] = baseline.evaluate(single_step_window.val)\n",
        "performance['Baseline'] = baseline.evaluate(single_step_window.test, verbose=0)"
      ],
      "execution_count": 35,
      "outputs": [
        {
          "output_type": "stream",
          "text": [
            "439/439 [==============================] - 1s 3ms/step - loss: 0.0128 - mean_absolute_error: 0.0783\n"
          ],
          "name": "stdout"
        }
      ]
    },
    {
      "cell_type": "markdown",
      "metadata": {
        "id": "nhBxQcCSs7Ec"
      },
      "source": [
        "That printed some performance metrics, but those don't give you a feeling for how well the model is doing.\n",
        "\n",
        "The `WindowGenerator` has a plot method, but the plots won't be very interesting with only a single sample. So, create a wider `WindowGenerator` that generates windows 24h of consecutive inputs and labels at a time. \n",
        "\n",
        "The `wide_window` doesn't change the way the model operates. The model still makes predictions 1h into the future based on a single input time step. Here the `time` axis acts like the `batch` axis: Each prediction is made independently with no interaction between time steps."
      ]
    },
    {
      "cell_type": "code",
      "metadata": {
        "execution": {
          "iopub.execute_input": "2021-01-21T02:33:57.505735Z",
          "iopub.status.busy": "2021-01-21T02:33:57.505046Z",
          "iopub.status.idle": "2021-01-21T02:33:57.508988Z",
          "shell.execute_reply": "2021-01-21T02:33:57.508411Z"
        },
        "id": "C8jNR5uuJ5Zp",
        "outputId": "0c77d9a0-1304-4cca-df81-d9d5a6678f73",
        "colab": {
          "base_uri": "https://localhost:8080/"
        }
      },
      "source": [
        "wide_window = WindowGenerator(\n",
        "    input_width=24, label_width=24, shift=1,\n",
        "    label_columns=['T (degC)'])\n",
        "\n",
        "wide_window"
      ],
      "execution_count": 36,
      "outputs": [
        {
          "output_type": "execute_result",
          "data": {
            "text/plain": [
              "Total window size: 25\n",
              "Input indices: [ 0  1  2  3  4  5  6  7  8  9 10 11 12 13 14 15 16 17 18 19 20 21 22 23]\n",
              "Label indices: [ 1  2  3  4  5  6  7  8  9 10 11 12 13 14 15 16 17 18 19 20 21 22 23 24]\n",
              "Label column name(s): ['T (degC)']"
            ]
          },
          "metadata": {
            "tags": []
          },
          "execution_count": 36
        }
      ]
    },
    {
      "cell_type": "markdown",
      "metadata": {
        "id": "ZAnj7CFZkuYv"
      },
      "source": [
        "This expanded window can be passed directly to the same `baseline` model without any code changes. This is possible because the inputs and labels have the same number of timesteps, and the baseline just forwards the input to the output:\n",
        "\n",
        "  ![One prediction 1h into the future, ever hour.](https://github.com/blacksnail789521/Programming_Practice/blob/master/ML/TensorFlow_tutorial/08_Audio/images/last_window.png?raw=1)"
      ]
    },
    {
      "cell_type": "code",
      "metadata": {
        "execution": {
          "iopub.execute_input": "2021-01-21T02:33:57.513450Z",
          "iopub.status.busy": "2021-01-21T02:33:57.512792Z",
          "iopub.status.idle": "2021-01-21T02:33:57.597086Z",
          "shell.execute_reply": "2021-01-21T02:33:57.596479Z"
        },
        "id": "sGKdvdg087qs",
        "outputId": "64756b52-3b62-47f0-8bb1-3305d2cdce44",
        "colab": {
          "base_uri": "https://localhost:8080/"
        }
      },
      "source": [
        "print('Input shape:', wide_window.example[0].shape)\n",
        "print('Output shape:', baseline(wide_window.example[0]).shape)"
      ],
      "execution_count": 37,
      "outputs": [
        {
          "output_type": "stream",
          "text": [
            "Input shape: (32, 24, 19)\n",
            "Output shape: (32, 24, 1)\n"
          ],
          "name": "stdout"
        }
      ]
    },
    {
      "cell_type": "markdown",
      "metadata": {
        "id": "SKqQHX1K0JW-"
      },
      "source": [
        "Plotting the baseline model's predictions you can see that it is simply the labels, shifted right by 1h."
      ]
    },
    {
      "cell_type": "code",
      "metadata": {
        "execution": {
          "iopub.execute_input": "2021-01-21T02:33:57.613807Z",
          "iopub.status.busy": "2021-01-21T02:33:57.609813Z",
          "iopub.status.idle": "2021-01-21T02:33:58.046617Z",
          "shell.execute_reply": "2021-01-21T02:33:58.047113Z"
        },
        "id": "jQyAPVLgWTOZ",
        "outputId": "d74a1574-e11f-40d9-ca9c-801c9999d9f2",
        "colab": {
          "base_uri": "https://localhost:8080/",
          "height": 497
        }
      },
      "source": [
        "wide_window.plot(baseline)"
      ],
      "execution_count": 38,
      "outputs": [
        {
          "output_type": "display_data",
          "data": {
            "image/png": "[encoded data removed]",
            "text/plain": [
              "<Figure size 864x576 with 3 Axes>"
            ]
          },
          "metadata": {
            "tags": [],
            "needs_background": "light"
          }
        }
      ]
    },
    {
      "cell_type": "markdown",
      "metadata": {
        "id": "e93TLUhfAVg2"
      },
      "source": [
        "In the above plots of three examples the single step model is run over the course of 24h. This deserves some explanation:\n",
        "\n",
        "* The blue \"Inputs\" line shows the input temperature at each time step. The model recieves all features, this plot only shows the temperature.\n",
        "* The green \"Labels\" dots show the target prediction value. These dots are shown at the prediction time, not the input time. That is why the range of labels is shifted 1 step relative to the inputs.\n",
        "* The orange \"Predictions\" crosses are the model's prediction's for each output time step. If the model were predicting perfectly the predictions would land directly on the \"labels\"."
      ]
    },
    {
      "cell_type": "markdown",
      "metadata": {
        "id": "E4aOJScj52Yu"
      },
      "source": [
        "### Linear model\n",
        "\n",
        "The simplest **trainable** model you can apply to this task is to insert linear transformation between the input and output. In this case the output from a time step only depends on that step:\n",
        "\n",
        "![A single step prediction](https://github.com/blacksnail789521/Programming_Practice/blob/master/ML/TensorFlow_tutorial/08_Audio/images/narrow_window.png?raw=1)\n",
        "\n",
        "A `layers.Dense` with no `activation` set is a linear model. The layer only transforms the last axis of the data from `(batch, time, inputs)` to `(batch, time, units)`, it is applied independently to every item across the `batch` and `time` axes."
      ]
    },
    {
      "cell_type": "code",
      "metadata": {
        "execution": {
          "iopub.execute_input": "2021-01-21T02:33:58.061363Z",
          "iopub.status.busy": "2021-01-21T02:33:58.060601Z",
          "iopub.status.idle": "2021-01-21T02:33:58.064281Z",
          "shell.execute_reply": "2021-01-21T02:33:58.064743Z"
        },
        "id": "6341OXuQ5xA9"
      },
      "source": [
        "linear = tf.keras.Sequential([\n",
        "    tf.keras.layers.Dense(units=1)\n",
        "])"
      ],
      "execution_count": 39,
      "outputs": []
    },
    {
      "cell_type": "code",
      "metadata": {
        "execution": {
          "iopub.execute_input": "2021-01-21T02:33:58.069535Z",
          "iopub.status.busy": "2021-01-21T02:33:58.068813Z",
          "iopub.status.idle": "2021-01-21T02:33:58.581829Z",
          "shell.execute_reply": "2021-01-21T02:33:58.581266Z"
        },
        "id": "KwaOM8RucUSn",
        "outputId": "bf1179d2-d8f5-4a62-c777-84ee34f69e7f",
        "colab": {
          "base_uri": "https://localhost:8080/"
        }
      },
      "source": [
        "print('Input shape:', single_step_window.example[0].shape)\n",
        "print('Output shape:', linear(single_step_window.example[0]).shape)"
      ],
      "execution_count": 40,
      "outputs": [
        {
          "output_type": "stream",
          "text": [
            "Input shape: (32, 1, 19)\n",
            "Output shape: (32, 1, 1)\n"
          ],
          "name": "stdout"
        }
      ]
    },
    {
      "cell_type": "markdown",
      "metadata": {
        "id": "OMZTYIj3bYLg"
      },
      "source": [
        "This tutorial trains many models, so package the training procedure into a function:"
      ]
    },
    {
      "cell_type": "code",
      "metadata": {
        "execution": {
          "iopub.execute_input": "2021-01-21T02:33:58.588072Z",
          "iopub.status.busy": "2021-01-21T02:33:58.587408Z",
          "iopub.status.idle": "2021-01-21T02:33:58.589553Z",
          "shell.execute_reply": "2021-01-21T02:33:58.589958Z"
        },
        "id": "CbCL6VIrk-Gt"
      },
      "source": [
        "MAX_EPOCHS = 20\n",
        "\n",
        "def compile_and_fit(model, window, patience=2):\n",
        "  early_stopping = tf.keras.callbacks.EarlyStopping(monitor='val_loss',\n",
        "                                                    patience=patience,\n",
        "                                                    mode='min')\n",
        "\n",
        "  model.compile(loss=tf.losses.MeanSquaredError(),\n",
        "                optimizer=tf.optimizers.Adam(),\n",
        "                metrics=[tf.metrics.MeanAbsoluteError()])\n",
        "\n",
        "  history = model.fit(window.train, epochs=MAX_EPOCHS,\n",
        "                      validation_data=window.val,\n",
        "                      callbacks=[early_stopping])\n",
        "  return history"
      ],
      "execution_count": 41,
      "outputs": []
    },
    {
      "cell_type": "markdown",
      "metadata": {
        "id": "OobVjM-schwj"
      },
      "source": [
        "Train the model and evaluate its performance:"
      ]
    },
    {
      "cell_type": "code",
      "metadata": {
        "execution": {
          "iopub.execute_input": "2021-01-21T02:33:58.600121Z",
          "iopub.status.busy": "2021-01-21T02:33:58.599481Z",
          "iopub.status.idle": "2021-01-21T02:34:28.729442Z",
          "shell.execute_reply": "2021-01-21T02:34:28.729901Z"
        },
        "id": "9agbz2qB9bLS",
        "outputId": "ed2668bb-714b-4c81-cf55-0a412e65f39a",
        "colab": {
          "base_uri": "https://localhost:8080/"
        }
      },
      "source": [
        "history = compile_and_fit(linear, single_step_window)\n",
        "\n",
        "val_performance['Linear'] = linear.evaluate(single_step_window.val)\n",
        "performance['Linear'] = linear.evaluate(single_step_window.test, verbose=0)"
      ],
      "execution_count": 42,
      "outputs": [
        {
          "output_type": "stream",
          "text": [
            "Epoch 1/20\n",
            "1534/1534 [==============================] - 7s 4ms/step - loss: 0.4539 - mean_absolute_error: 0.4592 - val_loss: 0.0140 - val_mean_absolute_error: 0.0891\n",
            "Epoch 2/20\n",
            "1534/1534 [==============================] - 7s 4ms/step - loss: 0.0128 - mean_absolute_error: 0.0843 - val_loss: 0.0102 - val_mean_absolute_error: 0.0746\n",
            "Epoch 3/20\n",
            "1534/1534 [==============================] - 7s 4ms/step - loss: 0.0103 - mean_absolute_error: 0.0749 - val_loss: 0.0095 - val_mean_absolute_error: 0.0720\n",
            "Epoch 4/20\n",
            "1534/1534 [==============================] - 6s 4ms/step - loss: 0.0098 - mean_absolute_error: 0.0727 - val_loss: 0.0092 - val_mean_absolute_error: 0.0708\n",
            "Epoch 5/20\n",
            "1534/1534 [==============================] - 7s 4ms/step - loss: 0.0095 - mean_absolute_error: 0.0717 - val_loss: 0.0092 - val_mean_absolute_error: 0.0704\n",
            "Epoch 6/20\n",
            "1534/1534 [==============================] - 7s 4ms/step - loss: 0.0094 - mean_absolute_error: 0.0712 - val_loss: 0.0090 - val_mean_absolute_error: 0.0692\n",
            "Epoch 7/20\n",
            "1534/1534 [==============================] - 6s 4ms/step - loss: 0.0093 - mean_absolute_error: 0.0708 - val_loss: 0.0089 - val_mean_absolute_error: 0.0693\n",
            "Epoch 8/20\n",
            "1534/1534 [==============================] - 6s 4ms/step - loss: 0.0092 - mean_absolute_error: 0.0705 - val_loss: 0.0089 - val_mean_absolute_error: 0.0688\n",
            "Epoch 9/20\n",
            "1534/1534 [==============================] - 6s 4ms/step - loss: 0.0092 - mean_absolute_error: 0.0703 - val_loss: 0.0088 - val_mean_absolute_error: 0.0689\n",
            "Epoch 10/20\n",
            "1534/1534 [==============================] - 6s 4ms/step - loss: 0.0092 - mean_absolute_error: 0.0701 - val_loss: 0.0089 - val_mean_absolute_error: 0.0692\n",
            "Epoch 11/20\n",
            "1534/1534 [==============================] - 7s 4ms/step - loss: 0.0091 - mean_absolute_error: 0.0698 - val_loss: 0.0089 - val_mean_absolute_error: 0.0694\n",
            "439/439 [==============================] - 1s 3ms/step - loss: 0.0089 - mean_absolute_error: 0.0694\n"
          ],
          "name": "stdout"
        }
      ]
    },
    {
      "cell_type": "markdown",
      "metadata": {
        "id": "7U9XukYh8beN"
      },
      "source": [
        "Like the `baseline` model, the linear model can be called on batches of wide windows. Used this way the model makes a set of independent predictions on consecutive time steps. The `time` axis acts like another `batch` axis. There are no interactions between the predictions at each time step.\n",
        "\n",
        "![A single step prediction](https://github.com/blacksnail789521/Programming_Practice/blob/master/ML/TensorFlow_tutorial/08_Audio/images/wide_window.png?raw=1)"
      ]
    },
    {
      "cell_type": "code",
      "metadata": {
        "execution": {
          "iopub.execute_input": "2021-01-21T02:34:28.735545Z",
          "iopub.status.busy": "2021-01-21T02:34:28.734791Z",
          "iopub.status.idle": "2021-01-21T02:34:28.737625Z",
          "shell.execute_reply": "2021-01-21T02:34:28.738027Z"
        },
        "id": "K9UVM5Sw9KQN",
        "outputId": "46dffc7c-4a67-4d41-a8cf-cf1d0c8abc98",
        "colab": {
          "base_uri": "https://localhost:8080/"
        }
      },
      "source": [
        "print('Input shape:', wide_window.example[0].shape)\n",
        "print('Output shape:', baseline(wide_window.example[0]).shape)"
      ],
      "execution_count": 43,
      "outputs": [
        {
          "output_type": "stream",
          "text": [
            "Input shape: (32, 24, 19)\n",
            "Output shape: (32, 24, 1)\n"
          ],
          "name": "stdout"
        }
      ]
    },
    {
      "cell_type": "markdown",
      "metadata": {
        "id": "X-CGj85oKaOG"
      },
      "source": [
        "Here is the plot of its example predictions on the `wide_window`, note how in many cases the prediction is clearly better than just returning the input temperature, but in a few cases it's worse:"
      ]
    },
    {
      "cell_type": "code",
      "metadata": {
        "execution": {
          "iopub.execute_input": "2021-01-21T02:34:28.755424Z",
          "iopub.status.busy": "2021-01-21T02:34:28.750208Z",
          "iopub.status.idle": "2021-01-21T02:34:29.201249Z",
          "shell.execute_reply": "2021-01-21T02:34:29.201735Z"
        },
        "id": "bCC8VVo-OvwV",
        "outputId": "29f66864-dd7d-4f6d-db44-39c9b9b2d03f",
        "colab": {
          "base_uri": "https://localhost:8080/",
          "height": 497
        }
      },
      "source": [
        "wide_window.plot(linear)"
      ],
      "execution_count": 44,
      "outputs": [
        {
          "output_type": "display_data",
          "data": {
            "image/png": "[encoded data removed]",
            "text/plain": [
              "<Figure size 864x576 with 3 Axes>"
            ]
          },
          "metadata": {
            "tags": [],
            "needs_background": "light"
          }
        }
      ]
    },
    {
      "cell_type": "markdown",
      "metadata": {
        "id": "Is51vU8EMl6c"
      },
      "source": [
        "One advantage to linear models is that they're relatively simple to  interpret.\n",
        "You can pull out the layer's weights, and see the weight assigned to each input:"
      ]
    },
    {
      "cell_type": "code",
      "metadata": {
        "execution": {
          "iopub.execute_input": "2021-01-21T02:34:29.207751Z",
          "iopub.status.busy": "2021-01-21T02:34:29.207067Z",
          "iopub.status.idle": "2021-01-21T02:34:29.429693Z",
          "shell.execute_reply": "2021-01-21T02:34:29.429052Z"
        },
        "id": "d4uCTbsmK8VI",
        "outputId": "83e4bdbb-c083-47f7-8162-3bc812ef1ac8",
        "colab": {
          "base_uri": "https://localhost:8080/",
          "height": 453
        }
      },
      "source": [
        "plt.bar(x = range(len(train_df.columns)),\n",
        "        height=linear.layers[0].kernel[:,0].numpy())\n",
        "axis = plt.gca()\n",
        "axis.set_xticks(range(len(train_df.columns)))\n",
        "_ = axis.set_xticklabels(train_df.columns, rotation=90)"
      ],
      "execution_count": 45,
      "outputs": [
        {
          "output_type": "display_data",
          "data": {
            "image/png": "[encoded data removed]",
            "text/plain": [
              "<Figure size 576x432 with 1 Axes>"
            ]
          },
          "metadata": {
            "tags": [],
            "needs_background": "light"
          }
        }
      ]
    },
    {
      "cell_type": "markdown",
      "metadata": {
        "id": "Ylng7215boIY"
      },
      "source": [
        "Sometimes the model doesn't even place the most weight on the input `T (degC)`. This is one of the risks of random initialization. "
      ]
    },
    {
      "cell_type": "markdown",
      "metadata": {
        "id": "W18e6da1cNbw"
      },
      "source": [
        "### Dense\n",
        "\n",
        "Before applying models that actually operate on multiple time-steps, it's worth checking the performance of deeper, more powerful, single input step models.\n",
        "\n",
        "Here's a model similar to the `linear` model, except it stacks several a few `Dense` layers between the input and the output: "
      ]
    },
    {
      "cell_type": "code",
      "metadata": {
        "execution": {
          "iopub.execute_input": "2021-01-21T02:34:29.439027Z",
          "iopub.status.busy": "2021-01-21T02:34:29.437851Z",
          "iopub.status.idle": "2021-01-21T02:35:33.628678Z",
          "shell.execute_reply": "2021-01-21T02:35:33.629172Z"
        },
        "id": "Z86WkYp7cNAD",
        "outputId": "e6dcf054-84f7-422e-ae53-2b2cfb068297",
        "colab": {
          "base_uri": "https://localhost:8080/"
        }
      },
      "source": [
        "dense = tf.keras.Sequential([\n",
        "    tf.keras.layers.Dense(units=64, activation='relu'),\n",
        "    tf.keras.layers.Dense(units=64, activation='relu'),\n",
        "    tf.keras.layers.Dense(units=1)\n",
        "])\n",
        "\n",
        "history = compile_and_fit(dense, single_step_window)\n",
        "\n",
        "val_performance['Dense'] = dense.evaluate(single_step_window.val)\n",
        "performance['Dense'] = dense.evaluate(single_step_window.test, verbose=0)"
      ],
      "execution_count": 46,
      "outputs": [
        {
          "output_type": "stream",
          "text": [
            "Epoch 1/20\n",
            "1534/1534 [==============================] - 8s 5ms/step - loss: 0.0393 - mean_absolute_error: 0.1106 - val_loss: 0.0075 - val_mean_absolute_error: 0.0634\n",
            "Epoch 2/20\n",
            "1534/1534 [==============================] - 7s 5ms/step - loss: 0.0079 - mean_absolute_error: 0.0644 - val_loss: 0.0075 - val_mean_absolute_error: 0.0645\n",
            "Epoch 3/20\n",
            "1534/1534 [==============================] - 7s 5ms/step - loss: 0.0074 - mean_absolute_error: 0.0622 - val_loss: 0.0074 - val_mean_absolute_error: 0.0609\n",
            "Epoch 4/20\n",
            "1534/1534 [==============================] - 7s 5ms/step - loss: 0.0071 - mean_absolute_error: 0.0607 - val_loss: 0.0068 - val_mean_absolute_error: 0.0585\n",
            "Epoch 5/20\n",
            "1534/1534 [==============================] - 8s 5ms/step - loss: 0.0069 - mean_absolute_error: 0.0596 - val_loss: 0.0072 - val_mean_absolute_error: 0.0597\n",
            "Epoch 6/20\n",
            "1534/1534 [==============================] - 7s 5ms/step - loss: 0.0068 - mean_absolute_error: 0.0589 - val_loss: 0.0066 - val_mean_absolute_error: 0.0564\n",
            "Epoch 7/20\n",
            "1534/1534 [==============================] - 7s 5ms/step - loss: 0.0067 - mean_absolute_error: 0.0584 - val_loss: 0.0066 - val_mean_absolute_error: 0.0581\n",
            "Epoch 8/20\n",
            "1534/1534 [==============================] - 7s 5ms/step - loss: 0.0066 - mean_absolute_error: 0.0582 - val_loss: 0.0062 - val_mean_absolute_error: 0.0553\n",
            "Epoch 9/20\n",
            "1534/1534 [==============================] - 7s 5ms/step - loss: 0.0066 - mean_absolute_error: 0.0579 - val_loss: 0.0067 - val_mean_absolute_error: 0.0594\n",
            "Epoch 10/20\n",
            "1534/1534 [==============================] - 8s 5ms/step - loss: 0.0065 - mean_absolute_error: 0.0575 - val_loss: 0.0063 - val_mean_absolute_error: 0.0562\n",
            "439/439 [==============================] - 2s 3ms/step - loss: 0.0063 - mean_absolute_error: 0.0562\n"
          ],
          "name": "stdout"
        }
      ]
    },
    {
      "cell_type": "markdown",
      "metadata": {
        "id": "j5dv_whJdswH"
      },
      "source": [
        "### Multi-step dense\n",
        "\n",
        "A single-time-step model has no context for the current values of its inputs. It can't see how the input features are changing over time. To address this issue the model needs access to multiple time steps when making predictions:\n",
        "\n",
        "![Three time steps are used for each prediction.](https://github.com/blacksnail789521/Programming_Practice/blob/master/ML/TensorFlow_tutorial/08_Audio/images/conv_window.png?raw=1)\n"
      ]
    },
    {
      "cell_type": "markdown",
      "metadata": {
        "id": "Zac-ti8agbJ7"
      },
      "source": [
        "The `baseline`, `linear` and `dense` models handled each time step independently. Here the model will take multiple time steps as input to produce a single output.\n",
        "\n",
        "Create a `WindowGenerator` that will produce batches of the 3h of inputs and, 1h of labels:"
      ]
    },
    {
      "cell_type": "markdown",
      "metadata": {
        "id": "gtN4BwZ37niR"
      },
      "source": [
        "Note that the `Window`'s `shift` parameter is relative to the end of the two windows.\n"
      ]
    },
    {
      "cell_type": "code",
      "metadata": {
        "execution": {
          "iopub.execute_input": "2021-01-21T02:35:33.635400Z",
          "iopub.status.busy": "2021-01-21T02:35:33.634664Z",
          "iopub.status.idle": "2021-01-21T02:35:33.637723Z",
          "shell.execute_reply": "2021-01-21T02:35:33.637223Z"
        },
        "id": "lBh0j5djUKY2",
        "outputId": "56941f3c-b0e6-455b-a57e-aa0adf840344",
        "colab": {
          "base_uri": "https://localhost:8080/"
        }
      },
      "source": [
        "CONV_WIDTH = 3\n",
        "conv_window = WindowGenerator(\n",
        "    input_width=CONV_WIDTH,\n",
        "    label_width=1,\n",
        "    shift=1,\n",
        "    label_columns=['T (degC)'])\n",
        "\n",
        "conv_window"
      ],
      "execution_count": 47,
      "outputs": [
        {
          "output_type": "execute_result",
          "data": {
            "text/plain": [
              "Total window size: 4\n",
              "Input indices: [0 1 2]\n",
              "Label indices: [3]\n",
              "Label column name(s): ['T (degC)']"
            ]
          },
          "metadata": {
            "tags": []
          },
          "execution_count": 47
        }
      ]
    },
    {
      "cell_type": "code",
      "metadata": {
        "execution": {
          "iopub.execute_input": "2021-01-21T02:35:33.641733Z",
          "iopub.status.busy": "2021-01-21T02:35:33.641030Z",
          "iopub.status.idle": "2021-01-21T02:35:34.156260Z",
          "shell.execute_reply": "2021-01-21T02:35:34.156776Z"
        },
        "id": "dCQ5gvs68Xkd",
        "outputId": "5d139f0b-6c32-4129-c343-9727b66548df",
        "colab": {
          "base_uri": "https://localhost:8080/",
          "height": 515
        }
      },
      "source": [
        "conv_window.plot()\n",
        "plt.title(\"Given 3h as input, predict 1h into the future.\")"
      ],
      "execution_count": 48,
      "outputs": [
        {
          "output_type": "execute_result",
          "data": {
            "text/plain": [
              "Text(0.5, 1.0, 'Given 3h as input, predict 1h into the future.')"
            ]
          },
          "metadata": {
            "tags": []
          },
          "execution_count": 48
        },
        {
          "output_type": "display_data",
          "data": {
            "image/png": "[encoded data removed]",
            "text/plain": [
              "<Figure size 864x576 with 3 Axes>"
            ]
          },
          "metadata": {
            "tags": [],
            "needs_background": "light"
          }
        }
      ]
    },
    {
      "cell_type": "markdown",
      "metadata": {
        "id": "We0HdMxKeqB_"
      },
      "source": [
        "You could train a `dense` model on a multiple-input-step window by adding a `layers.Flatten` as the first layer of the model:"
      ]
    },
    {
      "cell_type": "code",
      "metadata": {
        "execution": {
          "iopub.execute_input": "2021-01-21T02:35:34.168403Z",
          "iopub.status.busy": "2021-01-21T02:35:34.165192Z",
          "iopub.status.idle": "2021-01-21T02:35:34.172851Z",
          "shell.execute_reply": "2021-01-21T02:35:34.173285Z"
        },
        "id": "oNQnUOkOnC1G"
      },
      "source": [
        "multi_step_dense = tf.keras.Sequential([\n",
        "    # Shape: (time, features) => (time*features)\n",
        "    tf.keras.layers.Flatten(),\n",
        "    tf.keras.layers.Dense(units=32, activation='relu'),\n",
        "    tf.keras.layers.Dense(units=32, activation='relu'),\n",
        "    tf.keras.layers.Dense(units=1),\n",
        "    # Add back the time dimension.\n",
        "    # Shape: (outputs) => (1, outputs)\n",
        "    tf.keras.layers.Reshape([1, -1]),\n",
        "])"
      ],
      "execution_count": 49,
      "outputs": []
    },
    {
      "cell_type": "code",
      "metadata": {
        "execution": {
          "iopub.execute_input": "2021-01-21T02:35:34.180395Z",
          "iopub.status.busy": "2021-01-21T02:35:34.179529Z",
          "iopub.status.idle": "2021-01-21T02:35:34.213899Z",
          "shell.execute_reply": "2021-01-21T02:35:34.213176Z"
        },
        "id": "cayD74luo4Vq",
        "outputId": "5746cab0-ae94-4bc3-9cb1-3e99ef4d67cd",
        "colab": {
          "base_uri": "https://localhost:8080/"
        }
      },
      "source": [
        "print('Input shape:', conv_window.example[0].shape)\n",
        "print('Output shape:', multi_step_dense(conv_window.example[0]).shape)"
      ],
      "execution_count": 50,
      "outputs": [
        {
          "output_type": "stream",
          "text": [
            "Input shape: (32, 3, 19)\n",
            "Output shape: (32, 1, 1)\n"
          ],
          "name": "stdout"
        }
      ]
    },
    {
      "cell_type": "code",
      "metadata": {
        "execution": {
          "iopub.execute_input": "2021-01-21T02:35:34.224776Z",
          "iopub.status.busy": "2021-01-21T02:35:34.222895Z",
          "iopub.status.idle": "2021-01-21T02:36:46.563979Z",
          "shell.execute_reply": "2021-01-21T02:36:46.564501Z"
        },
        "id": "fu91yEbRo9-J",
        "outputId": "c754397a-f74b-4cf3-c582-49a66ddc94d5",
        "colab": {
          "base_uri": "https://localhost:8080/"
        }
      },
      "source": [
        "history = compile_and_fit(multi_step_dense, conv_window)\n",
        "\n",
        "IPython.display.clear_output()\n",
        "val_performance['Multi step dense'] = multi_step_dense.evaluate(conv_window.val)\n",
        "performance['Multi step dense'] = multi_step_dense.evaluate(conv_window.test, verbose=0)"
      ],
      "execution_count": 51,
      "outputs": [
        {
          "output_type": "stream",
          "text": [
            "438/438 [==============================] - 1s 3ms/step - loss: 0.0086 - mean_absolute_error: 0.0661\n"
          ],
          "name": "stdout"
        }
      ]
    },
    {
      "cell_type": "code",
      "metadata": {
        "execution": {
          "iopub.execute_input": "2021-01-21T02:36:46.578644Z",
          "iopub.status.busy": "2021-01-21T02:36:46.577859Z",
          "iopub.status.idle": "2021-01-21T02:36:47.038608Z",
          "shell.execute_reply": "2021-01-21T02:36:47.039054Z"
        },
        "id": "tnqdXYT6pkEh",
        "outputId": "01be4337-4781-4d18-d696-bd10f78bb72d",
        "colab": {
          "base_uri": "https://localhost:8080/",
          "height": 497
        }
      },
      "source": [
        "conv_window.plot(multi_step_dense)"
      ],
      "execution_count": 52,
      "outputs": [
        {
          "output_type": "display_data",
          "data": {
            "image/png": "[encoded data removed]",
            "text/plain": [
              "<Figure size 864x576 with 3 Axes>"
            ]
          },
          "metadata": {
            "tags": [],
            "needs_background": "light"
          }
        }
      ]
    },
    {
      "cell_type": "markdown",
      "metadata": {
        "id": "gWfrsP8mq8lV"
      },
      "source": [
        "The main down-side of this approach is that the resulting model can only be executed on input windows of exactly this shape. "
      ]
    },
    {
      "cell_type": "code",
      "metadata": {
        "execution": {
          "iopub.execute_input": "2021-01-21T02:36:47.048304Z",
          "iopub.status.busy": "2021-01-21T02:36:47.046666Z",
          "iopub.status.idle": "2021-01-21T02:36:47.074628Z",
          "shell.execute_reply": "2021-01-21T02:36:47.073921Z"
        },
        "id": "j-q6tz5Yq8Jk",
        "outputId": "b387eda3-38f3-471c-a438-e15a5d3c651b",
        "colab": {
          "base_uri": "https://localhost:8080/"
        }
      },
      "source": [
        "print('Input shape:', wide_window.example[0].shape)\n",
        "try:\n",
        "  print('Output shape:', multi_step_dense(wide_window.example[0]).shape)\n",
        "except Exception as e:\n",
        "  print(f'\\n{type(e).__name__}:{e}')"
      ],
      "execution_count": 53,
      "outputs": [
        {
          "output_type": "stream",
          "text": [
            "Input shape: (32, 24, 19)\n",
            "\n",
            "ValueError:Input 0 of layer dense_4 is incompatible with the layer: expected axis -1 of input shape to have value 57 but received input with shape (32, 456)\n"
          ],
          "name": "stdout"
        }
      ]
    },
    {
      "cell_type": "markdown",
      "metadata": {
        "id": "bvvajm3ip_8V"
      },
      "source": [
        "The convolutional models in the next section fix this problem."
      ]
    },
    {
      "cell_type": "markdown",
      "metadata": {
        "id": "CrpU6gwSJome"
      },
      "source": [
        "### Convolution neural network\n",
        " \n",
        "A convolution layer (`layers.Conv1D`) also takes multiple time steps as input to each prediction."
      ]
    },
    {
      "cell_type": "markdown",
      "metadata": {
        "id": "cdLBwoaHmsWb"
      },
      "source": [
        "Below is the **same** model as `multi_step_dense`, re-written with a convolution. \n",
        "\n",
        "Note the changes:\n",
        "* The `layers.Flatten` and the first `layers.Dense` are replaced by a `layers.Conv1D`.\n",
        "* The `layers.Reshape` is no longer necessary since the convolution keeps the time axis in its output."
      ]
    },
    {
      "cell_type": "code",
      "metadata": {
        "execution": {
          "iopub.execute_input": "2021-01-21T02:36:47.088171Z",
          "iopub.status.busy": "2021-01-21T02:36:47.086814Z",
          "iopub.status.idle": "2021-01-21T02:36:47.092356Z",
          "shell.execute_reply": "2021-01-21T02:36:47.091629Z"
        },
        "id": "5azaMBj4ac9t"
      },
      "source": [
        "conv_model = tf.keras.Sequential([\n",
        "    tf.keras.layers.Conv1D(filters=32,\n",
        "                           kernel_size=(CONV_WIDTH,),\n",
        "                           activation='relu'),\n",
        "    tf.keras.layers.Dense(units=32, activation='relu'),\n",
        "    tf.keras.layers.Dense(units=1),\n",
        "])"
      ],
      "execution_count": 54,
      "outputs": []
    },
    {
      "cell_type": "markdown",
      "metadata": {
        "id": "ftaH6B5ECRiK"
      },
      "source": [
        "Run it on an example batch to see that the model produces outputs with the expected shape:"
      ]
    },
    {
      "cell_type": "code",
      "metadata": {
        "execution": {
          "iopub.execute_input": "2021-01-21T02:36:47.101597Z",
          "iopub.status.busy": "2021-01-21T02:36:47.100238Z",
          "iopub.status.idle": "2021-01-21T02:36:47.145869Z",
          "shell.execute_reply": "2021-01-21T02:36:47.145229Z"
        },
        "id": "5YNgt1-e98lH",
        "outputId": "06b7a73a-78c2-48b7-d4f2-4c9d54069887",
        "colab": {
          "base_uri": "https://localhost:8080/"
        }
      },
      "source": [
        "print(\"Conv model on `conv_window`\")\n",
        "print('Input shape:', conv_window.example[0].shape)\n",
        "print('Output shape:', conv_model(conv_window.example[0]).shape)"
      ],
      "execution_count": 55,
      "outputs": [
        {
          "output_type": "stream",
          "text": [
            "Conv model on `conv_window`\n",
            "Input shape: (32, 3, 19)\n",
            "Output shape: (32, 1, 1)\n"
          ],
          "name": "stdout"
        }
      ]
    },
    {
      "cell_type": "markdown",
      "metadata": {
        "id": "5m4kC-jGCY3x"
      },
      "source": [
        "Train and evaluate it on the ` conv_window` and it should give performance similar to the `multi_step_dense` model."
      ]
    },
    {
      "cell_type": "code",
      "metadata": {
        "execution": {
          "iopub.execute_input": "2021-01-21T02:36:47.158040Z",
          "iopub.status.busy": "2021-01-21T02:36:47.156878Z",
          "iopub.status.idle": "2021-01-21T02:38:00.630891Z",
          "shell.execute_reply": "2021-01-21T02:38:00.631358Z"
        },
        "id": "QDVWdm4paUW7",
        "outputId": "106ae92f-4865-4acc-c7e3-3f1742e8c7e6",
        "colab": {
          "base_uri": "https://localhost:8080/",
          "height": 730
        }
      },
      "source": [
        "history = compile_and_fit(conv_model, conv_window)\n",
        "\n",
        "IPython.display.clear_output()\n",
        "val_performance['Conv'] = conv_model.evaluate(conv_window.val)\n",
        "performance['Conv'] = conv_model.evaluate(conv_window.test, verbose=0)"
      ],
      "execution_count": 56,
      "outputs": [
        {
          "output_type": "stream",
          "text": [
            "Epoch 1/20\n",
            "1534/1534 [==============================] - 13s 5ms/step - loss: 0.0549 - mean_absolute_error: 0.1355 - val_loss: 0.0101 - val_mean_absolute_error: 0.0742\n",
            "Epoch 2/20\n",
            "1534/1534 [==============================] - 8s 5ms/step - loss: 0.0088 - mean_absolute_error: 0.0681 - val_loss: 0.0087 - val_mean_absolute_error: 0.0678\n",
            "Epoch 3/20\n",
            "1534/1534 [==============================] - 8s 5ms/step - loss: 0.0077 - mean_absolute_error: 0.0627 - val_loss: 0.0088 - val_mean_absolute_error: 0.0680\n",
            "Epoch 4/20\n",
            "1534/1534 [==============================] - 7s 5ms/step - loss: 0.0075 - mean_absolute_error: 0.0615 - val_loss: 0.0072 - val_mean_absolute_error: 0.0613\n",
            "Epoch 5/20\n",
            "1534/1534 [==============================] - 8s 5ms/step - loss: 0.0074 - mean_absolute_error: 0.0611 - val_loss: 0.0068 - val_mean_absolute_error: 0.0586\n",
            "Epoch 6/20\n",
            "1534/1534 [==============================] - 8s 5ms/step - loss: 0.0072 - mean_absolute_error: 0.0605 - val_loss: 0.0069 - val_mean_absolute_error: 0.0595\n",
            "Epoch 7/20\n",
            "1534/1534 [==============================] - 8s 5ms/step - loss: 0.0071 - mean_absolute_error: 0.0598 - val_loss: 0.0065 - val_mean_absolute_error: 0.0583\n",
            "Epoch 8/20\n",
            "1534/1534 [==============================] - 8s 5ms/step - loss: 0.0069 - mean_absolute_error: 0.0585 - val_loss: 0.0062 - val_mean_absolute_error: 0.0561\n",
            "Epoch 9/20\n",
            " 889/1534 [================>.............] - ETA: 2s - loss: 0.0070 - mean_absolute_error: 0.0585"
          ],
          "name": "stdout"
        },
        {
          "output_type": "error",
          "ename": "KeyboardInterrupt",
          "evalue": "ignored",
          "traceback": [
            "\u001b[0;31m---------------------------------------------------------------------------\u001b[0m",
            "\u001b[0;31mKeyboardInterrupt\u001b[0m                         Traceback (most recent call last)",
            "\u001b[0;32m<ipython-input-56-b4b11da069fe>\u001b[0m in \u001b[0;36m<module>\u001b[0;34m()\u001b[0m\n\u001b[0;32m----> 1\u001b[0;31m \u001b[0mhistory\u001b[0m \u001b[0;34m=\u001b[0m \u001b[0mcompile_and_fit\u001b[0m\u001b[0;34m(\u001b[0m\u001b[0mconv_model\u001b[0m\u001b[0;34m,\u001b[0m \u001b[0mconv_window\u001b[0m\u001b[0;34m)\u001b[0m\u001b[0;34m\u001b[0m\u001b[0;34m\u001b[0m\u001b[0m\n\u001b[0m\u001b[1;32m      2\u001b[0m \u001b[0;34m\u001b[0m\u001b[0m\n\u001b[1;32m      3\u001b[0m \u001b[0mIPython\u001b[0m\u001b[0;34m.\u001b[0m\u001b[0mdisplay\u001b[0m\u001b[0;34m.\u001b[0m\u001b[0mclear_output\u001b[0m\u001b[0;34m(\u001b[0m\u001b[0;34m)\u001b[0m\u001b[0;34m\u001b[0m\u001b[0;34m\u001b[0m\u001b[0m\n\u001b[1;32m      4\u001b[0m \u001b[0mval_performance\u001b[0m\u001b[0;34m[\u001b[0m\u001b[0;34m'Conv'\u001b[0m\u001b[0;34m]\u001b[0m \u001b[0;34m=\u001b[0m \u001b[0mconv_model\u001b[0m\u001b[0;34m.\u001b[0m\u001b[0mevaluate\u001b[0m\u001b[0;34m(\u001b[0m\u001b[0mconv_window\u001b[0m\u001b[0;34m.\u001b[0m\u001b[0mval\u001b[0m\u001b[0;34m)\u001b[0m\u001b[0;34m\u001b[0m\u001b[0;34m\u001b[0m\u001b[0m\n\u001b[1;32m      5\u001b[0m \u001b[0mperformance\u001b[0m\u001b[0;34m[\u001b[0m\u001b[0;34m'Conv'\u001b[0m\u001b[0;34m]\u001b[0m \u001b[0;34m=\u001b[0m \u001b[0mconv_model\u001b[0m\u001b[0;34m.\u001b[0m\u001b[0mevaluate\u001b[0m\u001b[0;34m(\u001b[0m\u001b[0mconv_window\u001b[0m\u001b[0;34m.\u001b[0m\u001b[0mtest\u001b[0m\u001b[0;34m,\u001b[0m \u001b[0mverbose\u001b[0m\u001b[0;34m=\u001b[0m\u001b[0;36m0\u001b[0m\u001b[0;34m)\u001b[0m\u001b[0;34m\u001b[0m\u001b[0;34m\u001b[0m\u001b[0m\n",
            "\u001b[0;32m<ipython-input-41-716049f06cb3>\u001b[0m in \u001b[0;36mcompile_and_fit\u001b[0;34m(model, window, patience)\u001b[0m\n\u001b[1;32m     12\u001b[0m   history = model.fit(window.train, epochs=MAX_EPOCHS,\n\u001b[1;32m     13\u001b[0m                       \u001b[0mvalidation_data\u001b[0m\u001b[0;34m=\u001b[0m\u001b[0mwindow\u001b[0m\u001b[0;34m.\u001b[0m\u001b[0mval\u001b[0m\u001b[0;34m,\u001b[0m\u001b[0;34m\u001b[0m\u001b[0;34m\u001b[0m\u001b[0m\n\u001b[0;32m---> 14\u001b[0;31m                       callbacks=[early_stopping])\n\u001b[0m\u001b[1;32m     15\u001b[0m   \u001b[0;32mreturn\u001b[0m \u001b[0mhistory\u001b[0m\u001b[0;34m\u001b[0m\u001b[0;34m\u001b[0m\u001b[0m\n",
            "\u001b[0;32m/usr/local/lib/python3.7/dist-packages/tensorflow/python/keras/engine/training.py\u001b[0m in \u001b[0;36mfit\u001b[0;34m(self, x, y, batch_size, epochs, verbose, callbacks, validation_split, validation_data, shuffle, class_weight, sample_weight, initial_epoch, steps_per_epoch, validation_steps, validation_batch_size, validation_freq, max_queue_size, workers, use_multiprocessing)\u001b[0m\n\u001b[1;32m   1098\u001b[0m                 _r=1):\n\u001b[1;32m   1099\u001b[0m               \u001b[0mcallbacks\u001b[0m\u001b[0;34m.\u001b[0m\u001b[0mon_train_batch_begin\u001b[0m\u001b[0;34m(\u001b[0m\u001b[0mstep\u001b[0m\u001b[0;34m)\u001b[0m\u001b[0;34m\u001b[0m\u001b[0;34m\u001b[0m\u001b[0m\n\u001b[0;32m-> 1100\u001b[0;31m               \u001b[0mtmp_logs\u001b[0m \u001b[0;34m=\u001b[0m \u001b[0mself\u001b[0m\u001b[0;34m.\u001b[0m\u001b[0mtrain_function\u001b[0m\u001b[0;34m(\u001b[0m\u001b[0miterator\u001b[0m\u001b[0;34m)\u001b[0m\u001b[0;34m\u001b[0m\u001b[0;34m\u001b[0m\u001b[0m\n\u001b[0m\u001b[1;32m   1101\u001b[0m               \u001b[0;32mif\u001b[0m \u001b[0mdata_handler\u001b[0m\u001b[0;34m.\u001b[0m\u001b[0mshould_sync\u001b[0m\u001b[0;34m:\u001b[0m\u001b[0;34m\u001b[0m\u001b[0;34m\u001b[0m\u001b[0m\n\u001b[1;32m   1102\u001b[0m                 \u001b[0mcontext\u001b[0m\u001b[0;34m.\u001b[0m\u001b[0masync_wait\u001b[0m\u001b[0;34m(\u001b[0m\u001b[0;34m)\u001b[0m\u001b[0;34m\u001b[0m\u001b[0;34m\u001b[0m\u001b[0m\n",
            "\u001b[0;32m/usr/local/lib/python3.7/dist-packages/tensorflow/python/eager/def_function.py\u001b[0m in \u001b[0;36m__call__\u001b[0;34m(self, *args, **kwds)\u001b[0m\n\u001b[1;32m    826\u001b[0m     \u001b[0mtracing_count\u001b[0m \u001b[0;34m=\u001b[0m \u001b[0mself\u001b[0m\u001b[0;34m.\u001b[0m\u001b[0mexperimental_get_tracing_count\u001b[0m\u001b[0;34m(\u001b[0m\u001b[0;34m)\u001b[0m\u001b[0;34m\u001b[0m\u001b[0;34m\u001b[0m\u001b[0m\n\u001b[1;32m    827\u001b[0m     \u001b[0;32mwith\u001b[0m \u001b[0mtrace\u001b[0m\u001b[0;34m.\u001b[0m\u001b[0mTrace\u001b[0m\u001b[0;34m(\u001b[0m\u001b[0mself\u001b[0m\u001b[0;34m.\u001b[0m\u001b[0m_name\u001b[0m\u001b[0;34m)\u001b[0m \u001b[0;32mas\u001b[0m \u001b[0mtm\u001b[0m\u001b[0;34m:\u001b[0m\u001b[0;34m\u001b[0m\u001b[0;34m\u001b[0m\u001b[0m\n\u001b[0;32m--> 828\u001b[0;31m       \u001b[0mresult\u001b[0m \u001b[0;34m=\u001b[0m \u001b[0mself\u001b[0m\u001b[0;34m.\u001b[0m\u001b[0m_call\u001b[0m\u001b[0;34m(\u001b[0m\u001b[0;34m*\u001b[0m\u001b[0margs\u001b[0m\u001b[0;34m,\u001b[0m \u001b[0;34m**\u001b[0m\u001b[0mkwds\u001b[0m\u001b[0;34m)\u001b[0m\u001b[0;34m\u001b[0m\u001b[0;34m\u001b[0m\u001b[0m\n\u001b[0m\u001b[1;32m    829\u001b[0m       \u001b[0mcompiler\u001b[0m \u001b[0;34m=\u001b[0m \u001b[0;34m\"xla\"\u001b[0m \u001b[0;32mif\u001b[0m \u001b[0mself\u001b[0m\u001b[0;34m.\u001b[0m\u001b[0m_experimental_compile\u001b[0m \u001b[0;32melse\u001b[0m \u001b[0;34m\"nonXla\"\u001b[0m\u001b[0;34m\u001b[0m\u001b[0;34m\u001b[0m\u001b[0m\n\u001b[1;32m    830\u001b[0m       \u001b[0mnew_tracing_count\u001b[0m \u001b[0;34m=\u001b[0m \u001b[0mself\u001b[0m\u001b[0;34m.\u001b[0m\u001b[0mexperimental_get_tracing_count\u001b[0m\u001b[0;34m(\u001b[0m\u001b[0;34m)\u001b[0m\u001b[0;34m\u001b[0m\u001b[0;34m\u001b[0m\u001b[0m\n",
            "\u001b[0;32m/usr/local/lib/python3.7/dist-packages/tensorflow/python/eager/def_function.py\u001b[0m in \u001b[0;36m_call\u001b[0;34m(self, *args, **kwds)\u001b[0m\n\u001b[1;32m    853\u001b[0m       \u001b[0;31m# In this case we have created variables on the first call, so we run the\u001b[0m\u001b[0;34m\u001b[0m\u001b[0;34m\u001b[0m\u001b[0;34m\u001b[0m\u001b[0m\n\u001b[1;32m    854\u001b[0m       \u001b[0;31m# defunned version which is guaranteed to never create variables.\u001b[0m\u001b[0;34m\u001b[0m\u001b[0;34m\u001b[0m\u001b[0;34m\u001b[0m\u001b[0m\n\u001b[0;32m--> 855\u001b[0;31m       \u001b[0;32mreturn\u001b[0m \u001b[0mself\u001b[0m\u001b[0;34m.\u001b[0m\u001b[0m_stateless_fn\u001b[0m\u001b[0;34m(\u001b[0m\u001b[0;34m*\u001b[0m\u001b[0margs\u001b[0m\u001b[0;34m,\u001b[0m \u001b[0;34m**\u001b[0m\u001b[0mkwds\u001b[0m\u001b[0;34m)\u001b[0m  \u001b[0;31m# pylint: disable=not-callable\u001b[0m\u001b[0;34m\u001b[0m\u001b[0;34m\u001b[0m\u001b[0m\n\u001b[0m\u001b[1;32m    856\u001b[0m     \u001b[0;32melif\u001b[0m \u001b[0mself\u001b[0m\u001b[0;34m.\u001b[0m\u001b[0m_stateful_fn\u001b[0m \u001b[0;32mis\u001b[0m \u001b[0;32mnot\u001b[0m \u001b[0;32mNone\u001b[0m\u001b[0;34m:\u001b[0m\u001b[0;34m\u001b[0m\u001b[0;34m\u001b[0m\u001b[0m\n\u001b[1;32m    857\u001b[0m       \u001b[0;31m# Release the lock early so that multiple threads can perform the call\u001b[0m\u001b[0;34m\u001b[0m\u001b[0;34m\u001b[0m\u001b[0;34m\u001b[0m\u001b[0m\n",
            "\u001b[0;32m/usr/local/lib/python3.7/dist-packages/tensorflow/python/eager/function.py\u001b[0m in \u001b[0;36m__call__\u001b[0;34m(self, *args, **kwargs)\u001b[0m\n\u001b[1;32m   2941\u001b[0m        filtered_flat_args) = self._maybe_define_function(args, kwargs)\n\u001b[1;32m   2942\u001b[0m     return graph_function._call_flat(\n\u001b[0;32m-> 2943\u001b[0;31m         filtered_flat_args, captured_inputs=graph_function.captured_inputs)  # pylint: disable=protected-access\n\u001b[0m\u001b[1;32m   2944\u001b[0m \u001b[0;34m\u001b[0m\u001b[0m\n\u001b[1;32m   2945\u001b[0m   \u001b[0;34m@\u001b[0m\u001b[0mproperty\u001b[0m\u001b[0;34m\u001b[0m\u001b[0;34m\u001b[0m\u001b[0m\n",
            "\u001b[0;32m/usr/local/lib/python3.7/dist-packages/tensorflow/python/eager/function.py\u001b[0m in \u001b[0;36m_call_flat\u001b[0;34m(self, args, captured_inputs, cancellation_manager)\u001b[0m\n\u001b[1;32m   1917\u001b[0m       \u001b[0;31m# No tape is watching; skip to running the function.\u001b[0m\u001b[0;34m\u001b[0m\u001b[0;34m\u001b[0m\u001b[0;34m\u001b[0m\u001b[0m\n\u001b[1;32m   1918\u001b[0m       return self._build_call_outputs(self._inference_function.call(\n\u001b[0;32m-> 1919\u001b[0;31m           ctx, args, cancellation_manager=cancellation_manager))\n\u001b[0m\u001b[1;32m   1920\u001b[0m     forward_backward = self._select_forward_and_backward_functions(\n\u001b[1;32m   1921\u001b[0m         \u001b[0margs\u001b[0m\u001b[0;34m,\u001b[0m\u001b[0;34m\u001b[0m\u001b[0;34m\u001b[0m\u001b[0m\n",
            "\u001b[0;32m/usr/local/lib/python3.7/dist-packages/tensorflow/python/eager/function.py\u001b[0m in \u001b[0;36mcall\u001b[0;34m(self, ctx, args, cancellation_manager)\u001b[0m\n\u001b[1;32m    558\u001b[0m               \u001b[0minputs\u001b[0m\u001b[0;34m=\u001b[0m\u001b[0margs\u001b[0m\u001b[0;34m,\u001b[0m\u001b[0;34m\u001b[0m\u001b[0;34m\u001b[0m\u001b[0m\n\u001b[1;32m    559\u001b[0m               \u001b[0mattrs\u001b[0m\u001b[0;34m=\u001b[0m\u001b[0mattrs\u001b[0m\u001b[0;34m,\u001b[0m\u001b[0;34m\u001b[0m\u001b[0;34m\u001b[0m\u001b[0m\n\u001b[0;32m--> 560\u001b[0;31m               ctx=ctx)\n\u001b[0m\u001b[1;32m    561\u001b[0m         \u001b[0;32melse\u001b[0m\u001b[0;34m:\u001b[0m\u001b[0;34m\u001b[0m\u001b[0;34m\u001b[0m\u001b[0m\n\u001b[1;32m    562\u001b[0m           outputs = execute.execute_with_cancellation(\n",
            "\u001b[0;32m/usr/local/lib/python3.7/dist-packages/tensorflow/python/eager/execute.py\u001b[0m in \u001b[0;36mquick_execute\u001b[0;34m(op_name, num_outputs, inputs, attrs, ctx, name)\u001b[0m\n\u001b[1;32m     58\u001b[0m     \u001b[0mctx\u001b[0m\u001b[0;34m.\u001b[0m\u001b[0mensure_initialized\u001b[0m\u001b[0;34m(\u001b[0m\u001b[0;34m)\u001b[0m\u001b[0;34m\u001b[0m\u001b[0;34m\u001b[0m\u001b[0m\n\u001b[1;32m     59\u001b[0m     tensors = pywrap_tfe.TFE_Py_Execute(ctx._handle, device_name, op_name,\n\u001b[0;32m---> 60\u001b[0;31m                                         inputs, attrs, num_outputs)\n\u001b[0m\u001b[1;32m     61\u001b[0m   \u001b[0;32mexcept\u001b[0m \u001b[0mcore\u001b[0m\u001b[0;34m.\u001b[0m\u001b[0m_NotOkStatusException\u001b[0m \u001b[0;32mas\u001b[0m \u001b[0me\u001b[0m\u001b[0;34m:\u001b[0m\u001b[0;34m\u001b[0m\u001b[0;34m\u001b[0m\u001b[0m\n\u001b[1;32m     62\u001b[0m     \u001b[0;32mif\u001b[0m \u001b[0mname\u001b[0m \u001b[0;32mis\u001b[0m \u001b[0;32mnot\u001b[0m \u001b[0;32mNone\u001b[0m\u001b[0;34m:\u001b[0m\u001b[0;34m\u001b[0m\u001b[0;34m\u001b[0m\u001b[0m\n",
            "\u001b[0;31mKeyboardInterrupt\u001b[0m: "
          ]
        }
      ]
    },
    {
      "cell_type": "markdown",
      "metadata": {
        "id": "sYRipDeXs0Kr"
      },
      "source": [
        "The difference between this `conv_model` and the `multi_step_dense` model is that the `conv_model` can be run on inputs of any length. The convolutional layer is applied to a sliding window of inputs:\n",
        "\n",
        "![Executing a convolutional model on a sequence](https://github.com/blacksnail789521/Programming_Practice/blob/master/ML/TensorFlow_tutorial/08_Audio/images/wide_conv_window.png?raw=1)\n",
        "\n",
        "If you run it on wider input, it produces wider output:"
      ]
    },
    {
      "cell_type": "code",
      "metadata": {
        "execution": {
          "iopub.execute_input": "2021-01-21T02:38:00.642203Z",
          "iopub.status.busy": "2021-01-21T02:38:00.640955Z",
          "iopub.status.idle": "2021-01-21T02:38:00.692212Z",
          "shell.execute_reply": "2021-01-21T02:38:00.691614Z"
        },
        "id": "hoqccxx9r5jF"
      },
      "source": [
        "print(\"Wide window\")\n",
        "print('Input shape:', wide_window.example[0].shape)\n",
        "print('Labels shape:', wide_window.example[1].shape)\n",
        "print('Output shape:', conv_model(wide_window.example[0]).shape)"
      ],
      "execution_count": null,
      "outputs": []
    },
    {
      "cell_type": "markdown",
      "metadata": {
        "id": "h_WGxtLIHhRF"
      },
      "source": [
        "Note that the output is shorter than the input. To make training or plotting work, you need the labels, and prediction to have the same length. So build a `WindowGenerator` to produce wide windows with a few extra input time steps so the label and prediction lengths match: "
      ]
    },
    {
      "cell_type": "code",
      "metadata": {
        "execution": {
          "iopub.execute_input": "2021-01-21T02:38:00.698812Z",
          "iopub.status.busy": "2021-01-21T02:38:00.698077Z",
          "iopub.status.idle": "2021-01-21T02:38:00.701140Z",
          "shell.execute_reply": "2021-01-21T02:38:00.700611Z"
        },
        "id": "_VPvJ_VwTc0f"
      },
      "source": [
        "LABEL_WIDTH = 24\n",
        "INPUT_WIDTH = LABEL_WIDTH + (CONV_WIDTH - 1)\n",
        "wide_conv_window = WindowGenerator(\n",
        "    input_width=INPUT_WIDTH,\n",
        "    label_width=LABEL_WIDTH,\n",
        "    shift=1,\n",
        "    label_columns=['T (degC)'])\n",
        "\n",
        "wide_conv_window"
      ],
      "execution_count": null,
      "outputs": []
    },
    {
      "cell_type": "code",
      "metadata": {
        "execution": {
          "iopub.execute_input": "2021-01-21T02:38:00.706396Z",
          "iopub.status.busy": "2021-01-21T02:38:00.705605Z",
          "iopub.status.idle": "2021-01-21T02:38:00.808796Z",
          "shell.execute_reply": "2021-01-21T02:38:00.808130Z"
        },
        "id": "gtqlWYXeKXej"
      },
      "source": [
        "print(\"Wide conv window\")\n",
        "print('Input shape:', wide_conv_window.example[0].shape)\n",
        "print('Labels shape:', wide_conv_window.example[1].shape)\n",
        "print('Output shape:', conv_model(wide_conv_window.example[0]).shape)"
      ],
      "execution_count": null,
      "outputs": []
    },
    {
      "cell_type": "markdown",
      "metadata": {
        "id": "yzxbbS56cSBV"
      },
      "source": [
        "Now you can plot the model's predictions on a wider window. Note the 3 input time steps before the first prediction. Every prediction here is based on the 3 preceding timesteps:"
      ]
    },
    {
      "cell_type": "code",
      "metadata": {
        "execution": {
          "iopub.execute_input": "2021-01-21T02:38:00.836631Z",
          "iopub.status.busy": "2021-01-21T02:38:00.828684Z",
          "iopub.status.idle": "2021-01-21T02:38:01.485420Z",
          "shell.execute_reply": "2021-01-21T02:38:01.484679Z"
        },
        "id": "gR7VyL45UuEe"
      },
      "source": [
        "wide_conv_window.plot(conv_model)"
      ],
      "execution_count": null,
      "outputs": []
    },
    {
      "cell_type": "markdown",
      "metadata": {
        "id": "H4crpOcoMlSe"
      },
      "source": [
        "### Recurrent neural network\n",
        "\n",
        "A Recurrent Neural Network (RNN) is a type of neural network well-suited to time series data. RNNs process a time series step-by-step, maintaining an internal state from time-step to time-step.\n",
        "\n",
        "For more details, read the [text generation tutorial](https://www.tensorflow.org/tutorials/text/text_generation) or the [RNN guide](https://www.tensorflow.org/guide/keras/rnn). \n",
        "\n",
        "In this tutorial, you will use an RNN layer called Long Short Term Memory ([LSTM](https://www.tensorflow.org/versions/r2.0/api_docs/python/tf/keras/layers/LSTM))."
      ]
    },
    {
      "cell_type": "markdown",
      "metadata": {
        "id": "vfQbHSMb1ATa"
      },
      "source": [
        "An important constructor argument for all keras RNN layers is the `return_sequences` argument. This setting can configure the layer in one of two ways.\n",
        "\n",
        "1. If `False`, the default, the layer only returns the output of the final timestep, giving the model time to warm up its internal state before making a single prediction: \n",
        "\n",
        "![An lstm warming up and making a single prediction](https://github.com/blacksnail789521/Programming_Practice/blob/master/ML/TensorFlow_tutorial/08_Audio/images/lstm_1_window.png?raw=1)\n",
        "\n",
        "2. If `True` the layer returns an output for each input. This is useful for:\n",
        "  * Stacking RNN layers. \n",
        "  * Training a model on multiple timesteps simultaneously.\n",
        "\n",
        "![An lstm making a prediction after every timestep](https://github.com/blacksnail789521/Programming_Practice/blob/master/ML/TensorFlow_tutorial/08_Audio/images/lstm_many_window.png?raw=1)"
      ]
    },
    {
      "cell_type": "code",
      "metadata": {
        "execution": {
          "iopub.execute_input": "2021-01-21T02:38:01.506980Z",
          "iopub.status.busy": "2021-01-21T02:38:01.494337Z",
          "iopub.status.idle": "2021-01-21T02:38:01.511766Z",
          "shell.execute_reply": "2021-01-21T02:38:01.511169Z"
        },
        "id": "DXKLCJy8nWNU"
      },
      "source": [
        "lstm_model = tf.keras.models.Sequential([\n",
        "    # Shape [batch, time, features] => [batch, time, lstm_units]\n",
        "    tf.keras.layers.LSTM(32, return_sequences=True),\n",
        "    # Shape => [batch, time, features]\n",
        "    tf.keras.layers.Dense(units=1)\n",
        "])"
      ],
      "execution_count": null,
      "outputs": []
    },
    {
      "cell_type": "markdown",
      "metadata": {
        "id": "F124B00KZcLC"
      },
      "source": [
        "With `return_sequences=True` the model can be trained on 24h of data at a time.\n",
        "\n",
        "Note: This will give a pessimistic view of the model's performance. On the first timestep the model has no access to previous steps, and so can't do any better than the simple `linear` and `dense` models shown earlier."
      ]
    },
    {
      "cell_type": "code",
      "metadata": {
        "execution": {
          "iopub.execute_input": "2021-01-21T02:38:01.521386Z",
          "iopub.status.busy": "2021-01-21T02:38:01.517949Z",
          "iopub.status.idle": "2021-01-21T02:38:01.770215Z",
          "shell.execute_reply": "2021-01-21T02:38:01.769604Z"
        },
        "id": "eZEROCQVYV6q"
      },
      "source": [
        "print('Input shape:', wide_window.example[0].shape)\n",
        "print('Output shape:', lstm_model(wide_window.example[0]).shape)"
      ],
      "execution_count": null,
      "outputs": []
    },
    {
      "cell_type": "code",
      "metadata": {
        "execution": {
          "iopub.execute_input": "2021-01-21T02:38:01.781974Z",
          "iopub.status.busy": "2021-01-21T02:38:01.779596Z",
          "iopub.status.idle": "2021-01-21T02:39:36.737705Z",
          "shell.execute_reply": "2021-01-21T02:39:36.736900Z"
        },
        "id": "uvdWRl1e9WJl"
      },
      "source": [
        "history = compile_and_fit(lstm_model, wide_window)\n",
        "\n",
        "IPython.display.clear_output()\n",
        "val_performance['LSTM'] = lstm_model.evaluate(wide_window.val)\n",
        "performance['LSTM'] = lstm_model.evaluate(wide_window.test, verbose=0)"
      ],
      "execution_count": null,
      "outputs": []
    },
    {
      "cell_type": "code",
      "metadata": {
        "execution": {
          "iopub.execute_input": "2021-01-21T02:39:36.752875Z",
          "iopub.status.busy": "2021-01-21T02:39:36.752064Z",
          "iopub.status.idle": "2021-01-21T02:39:37.239901Z",
          "shell.execute_reply": "2021-01-21T02:39:37.240338Z"
        },
        "id": "NwAOWCVgB26e"
      },
      "source": [
        "wide_window.plot(lstm_model)"
      ],
      "execution_count": null,
      "outputs": []
    },
    {
      "cell_type": "markdown",
      "metadata": {
        "id": "pYglOCKehi8F"
      },
      "source": [
        "### Performance"
      ]
    },
    {
      "cell_type": "markdown",
      "metadata": {
        "id": "2pCk0_rwhi8H"
      },
      "source": [
        "With this dataset typically each of the models does slightly better than the one before it."
      ]
    },
    {
      "cell_type": "code",
      "metadata": {
        "execution": {
          "iopub.execute_input": "2021-01-21T02:39:37.261707Z",
          "iopub.status.busy": "2021-01-21T02:39:37.260845Z",
          "iopub.status.idle": "2021-01-21T02:39:37.436269Z",
          "shell.execute_reply": "2021-01-21T02:39:37.436715Z"
        },
        "id": "JjEkt488hi8I"
      },
      "source": [
        "x = np.arange(len(performance))\n",
        "width = 0.3\n",
        "metric_name = 'mean_absolute_error'\n",
        "metric_index = lstm_model.metrics_names.index('mean_absolute_error')\n",
        "val_mae = [v[metric_index] for v in val_performance.values()]\n",
        "test_mae = [v[metric_index] for v in performance.values()]\n",
        "\n",
        "plt.ylabel('mean_absolute_error [T (degC), normalized]')\n",
        "plt.bar(x - 0.17, val_mae, width, label='Validation')\n",
        "plt.bar(x + 0.17, test_mae, width, label='Test')\n",
        "plt.xticks(ticks=x, labels=performance.keys(),\n",
        "           rotation=45)\n",
        "_ = plt.legend()"
      ],
      "execution_count": null,
      "outputs": []
    },
    {
      "cell_type": "code",
      "metadata": {
        "execution": {
          "iopub.execute_input": "2021-01-21T02:39:37.441333Z",
          "iopub.status.busy": "2021-01-21T02:39:37.440623Z",
          "iopub.status.idle": "2021-01-21T02:39:37.443495Z",
          "shell.execute_reply": "2021-01-21T02:39:37.442992Z"
        },
        "id": "cBMCpsdphi8L"
      },
      "source": [
        "for name, value in performance.items():\n",
        "  print(f'{name:12s}: {value[1]:0.4f}')"
      ],
      "execution_count": null,
      "outputs": []
    },
    {
      "cell_type": "markdown",
      "metadata": {
        "id": "b5rUJ_2YMWzG"
      },
      "source": [
        "### Multi-output models\n",
        "\n",
        "The models so far all predicted a single output feature, `T (degC)`, for a single time step.\n",
        "\n",
        "All of these models can be converted to predict multiple features just by changing the number of units in the output layer and adjusting the training windows to include all features in the `labels`.\n"
      ]
    },
    {
      "cell_type": "code",
      "metadata": {
        "execution": {
          "iopub.execute_input": "2021-01-21T02:39:37.448800Z",
          "iopub.status.busy": "2021-01-21T02:39:37.448041Z",
          "iopub.status.idle": "2021-01-21T02:39:37.685780Z",
          "shell.execute_reply": "2021-01-21T02:39:37.685266Z"
        },
        "id": "9Gk0Z91xjOwv"
      },
      "source": [
        "single_step_window = WindowGenerator(\n",
        "    # `WindowGenerator` returns all features as labels if you \n",
        "    # don't set the `label_columns` argument.\n",
        "    input_width=1, label_width=1, shift=1)\n",
        "\n",
        "wide_window = WindowGenerator(\n",
        "    input_width=24, label_width=24, shift=1)\n",
        "\n",
        "for example_inputs, example_labels in wide_window.train.take(1):\n",
        "  print(f'Inputs shape (batch, time, features): {example_inputs.shape}')\n",
        "  print(f'Labels shape (batch, time, features): {example_labels.shape}')"
      ],
      "execution_count": null,
      "outputs": []
    },
    {
      "cell_type": "markdown",
      "metadata": {
        "id": "XmcjHfDskX1N"
      },
      "source": [
        "Note above that the `features` axis of the labels now has the same depth as the inputs, instead of 1."
      ]
    },
    {
      "cell_type": "markdown",
      "metadata": {
        "id": "9k7S5IHNhSNF"
      },
      "source": [
        "#### Baseline\n",
        "\n",
        "The same baseline model can be used here, but this time repeating all features instead of selecting a specific `label_index`."
      ]
    },
    {
      "cell_type": "code",
      "metadata": {
        "execution": {
          "iopub.execute_input": "2021-01-21T02:39:37.693313Z",
          "iopub.status.busy": "2021-01-21T02:39:37.692639Z",
          "iopub.status.idle": "2021-01-21T02:39:37.708904Z",
          "shell.execute_reply": "2021-01-21T02:39:37.709382Z"
        },
        "id": "sqqB9W-pjr5i"
      },
      "source": [
        "baseline = Baseline()\n",
        "baseline.compile(loss=tf.losses.MeanSquaredError(),\n",
        "                 metrics=[tf.metrics.MeanAbsoluteError()])"
      ],
      "execution_count": null,
      "outputs": []
    },
    {
      "cell_type": "code",
      "metadata": {
        "execution": {
          "iopub.execute_input": "2021-01-21T02:39:37.714331Z",
          "iopub.status.busy": "2021-01-21T02:39:37.713620Z",
          "iopub.status.idle": "2021-01-21T02:39:39.345432Z",
          "shell.execute_reply": "2021-01-21T02:39:39.344841Z"
        },
        "id": "ltQdgaqQjQWu"
      },
      "source": [
        "val_performance = {}\n",
        "performance = {}\n",
        "val_performance['Baseline'] = baseline.evaluate(wide_window.val)\n",
        "performance['Baseline'] = baseline.evaluate(wide_window.test, verbose=0)"
      ],
      "execution_count": null,
      "outputs": []
    },
    {
      "cell_type": "markdown",
      "metadata": {
        "id": "dfbCrf5q3P6n"
      },
      "source": [
        "#### Dense"
      ]
    },
    {
      "cell_type": "code",
      "metadata": {
        "execution": {
          "iopub.execute_input": "2021-01-21T02:39:39.355415Z",
          "iopub.status.busy": "2021-01-21T02:39:39.354664Z",
          "iopub.status.idle": "2021-01-21T02:39:39.358778Z",
          "shell.execute_reply": "2021-01-21T02:39:39.358253Z"
        },
        "id": "NdpzH1dYjdIN"
      },
      "source": [
        "dense = tf.keras.Sequential([\n",
        "    tf.keras.layers.Dense(units=64, activation='relu'),\n",
        "    tf.keras.layers.Dense(units=64, activation='relu'),\n",
        "    tf.keras.layers.Dense(units=num_features)\n",
        "])"
      ],
      "execution_count": null,
      "outputs": []
    },
    {
      "cell_type": "code",
      "metadata": {
        "execution": {
          "iopub.execute_input": "2021-01-21T02:39:39.369198Z",
          "iopub.status.busy": "2021-01-21T02:39:39.368401Z",
          "iopub.status.idle": "2021-01-21T02:40:31.455919Z",
          "shell.execute_reply": "2021-01-21T02:40:31.455143Z"
        },
        "id": "6uHuU9Cd3PTo"
      },
      "source": [
        "history = compile_and_fit(dense, single_step_window)\n",
        "\n",
        "IPython.display.clear_output()\n",
        "val_performance['Dense'] = dense.evaluate(single_step_window.val)\n",
        "performance['Dense'] = dense.evaluate(single_step_window.test, verbose=0)"
      ],
      "execution_count": null,
      "outputs": []
    },
    {
      "cell_type": "markdown",
      "metadata": {
        "id": "dsc9pur_mHsx"
      },
      "source": [
        "#### RNN\n"
      ]
    },
    {
      "cell_type": "code",
      "metadata": {
        "execution": {
          "iopub.execute_input": "2021-01-21T02:40:31.470341Z",
          "iopub.status.busy": "2021-01-21T02:40:31.469440Z",
          "iopub.status.idle": "2021-01-21T02:43:26.617985Z",
          "shell.execute_reply": "2021-01-21T02:43:26.618462Z"
        },
        "id": "4QbGLMyomXaz"
      },
      "source": [
        "%%time\n",
        "wide_window = WindowGenerator(\n",
        "    input_width=24, label_width=24, shift=1)\n",
        "\n",
        "lstm_model = tf.keras.models.Sequential([\n",
        "    # Shape [batch, time, features] => [batch, time, lstm_units]\n",
        "    tf.keras.layers.LSTM(32, return_sequences=True),\n",
        "    # Shape => [batch, time, features]\n",
        "    tf.keras.layers.Dense(units=num_features)\n",
        "])\n",
        "\n",
        "history = compile_and_fit(lstm_model, wide_window)\n",
        "\n",
        "IPython.display.clear_output()\n",
        "val_performance['LSTM'] = lstm_model.evaluate( wide_window.val)\n",
        "performance['LSTM'] = lstm_model.evaluate( wide_window.test, verbose=0)\n",
        "\n",
        "print()"
      ],
      "execution_count": null,
      "outputs": []
    },
    {
      "cell_type": "markdown",
      "metadata": {
        "id": "UwhY2f_Nn0_K"
      },
      "source": [
        "<a id=\"residual\"></a>\n",
        "\n",
        "#### Advanced: Residual connections\n",
        "\n",
        "The `Baseline` model from earlier took advantage of the fact that the sequence doesn't change drastically from time step to time step. Every model trained in this tutorial so far was randomly initialized, and then had to learn that the output is a a small change from the previous time step.\n",
        "\n",
        "While you can get around this issue with careful initialization, it's  simpler to build this into the model structure.\n",
        "\n",
        "It's common in time series analysis to build models that instead of predicting the next value, predict how the value will change in the next timestep.\n",
        "Similarly, \"Residual networks\" or \"ResNets\" in deep learning refer to architectures where each layer adds to the model's accumulating result.\n",
        "\n",
        "That is how you take advantage of the knowledge that the change should be small.\n",
        "\n",
        "![A model with a residual connection](https://github.com/blacksnail789521/Programming_Practice/blob/master/ML/TensorFlow_tutorial/08_Audio/images/residual.png?raw=1)\n",
        "\n",
        "Essentially this initializes the model to match the `Baseline`. For this task it helps models converge faster, with slightly better performance."
      ]
    },
    {
      "cell_type": "markdown",
      "metadata": {
        "id": "yP58A_ORx0kM"
      },
      "source": [
        "This approach can be used in conjunction with any model discussed in this tutorial. \n",
        "\n",
        "Here it is being applied to the LSTM model, note the use of the `tf.initializers.zeros` to ensure that the initial predicted changes are small, and don't overpower the residual connection. There are no symmetry-breaking concerns for the gradients here, since the `zeros` are only used on the last layer."
      ]
    },
    {
      "cell_type": "code",
      "metadata": {
        "execution": {
          "iopub.execute_input": "2021-01-21T02:43:26.624662Z",
          "iopub.status.busy": "2021-01-21T02:43:26.623885Z",
          "iopub.status.idle": "2021-01-21T02:43:26.626024Z",
          "shell.execute_reply": "2021-01-21T02:43:26.626454Z"
        },
        "id": "7YlfnDQC22TQ"
      },
      "source": [
        "class ResidualWrapper(tf.keras.Model):\n",
        "  def __init__(self, model):\n",
        "    super().__init__()\n",
        "    self.model = model\n",
        "\n",
        "  def call(self, inputs, *args, **kwargs):\n",
        "    delta = self.model(inputs, *args, **kwargs)\n",
        "\n",
        "    # The prediction for each timestep is the input\n",
        "    # from the previous time step plus the delta\n",
        "    # calculated by the model.\n",
        "    return inputs + delta"
      ],
      "execution_count": null,
      "outputs": []
    },
    {
      "cell_type": "code",
      "metadata": {
        "execution": {
          "iopub.execute_input": "2021-01-21T02:43:26.640964Z",
          "iopub.status.busy": "2021-01-21T02:43:26.640229Z",
          "iopub.status.idle": "2021-01-21T02:44:34.468835Z",
          "shell.execute_reply": "2021-01-21T02:44:34.469328Z"
        },
        "id": "NNeH02pspc9B"
      },
      "source": [
        "%%time\n",
        "residual_lstm = ResidualWrapper(\n",
        "    tf.keras.Sequential([\n",
        "    tf.keras.layers.LSTM(32, return_sequences=True),\n",
        "    tf.keras.layers.Dense(\n",
        "        num_features,\n",
        "        # The predicted deltas should start small\n",
        "        # So initialize the output layer with zeros\n",
        "        kernel_initializer=tf.initializers.zeros)\n",
        "]))\n",
        "\n",
        "history = compile_and_fit(residual_lstm, wide_window)\n",
        "\n",
        "IPython.display.clear_output()\n",
        "val_performance['Residual LSTM'] = residual_lstm.evaluate(wide_window.val)\n",
        "performance['Residual LSTM'] = residual_lstm.evaluate(wide_window.test, verbose=0)\n",
        "print()"
      ],
      "execution_count": null,
      "outputs": []
    },
    {
      "cell_type": "markdown",
      "metadata": {
        "id": "I42Er9Du6co1"
      },
      "source": [
        "#### Performance"
      ]
    },
    {
      "cell_type": "markdown",
      "metadata": {
        "id": "LZxR38P_6pUi"
      },
      "source": [
        "Here is the overall performance for these multi-output models."
      ]
    },
    {
      "cell_type": "code",
      "metadata": {
        "execution": {
          "iopub.execute_input": "2021-01-21T02:44:34.482996Z",
          "iopub.status.busy": "2021-01-21T02:44:34.482332Z",
          "iopub.status.idle": "2021-01-21T02:44:34.628268Z",
          "shell.execute_reply": "2021-01-21T02:44:34.627726Z"
        },
        "id": "6XgTK9tnr7rc"
      },
      "source": [
        "x = np.arange(len(performance))\n",
        "width = 0.3\n",
        "\n",
        "metric_name = 'mean_absolute_error'\n",
        "metric_index = lstm_model.metrics_names.index('mean_absolute_error')\n",
        "val_mae = [v[metric_index] for v in val_performance.values()]\n",
        "test_mae = [v[metric_index] for v in performance.values()]\n",
        "\n",
        "plt.bar(x - 0.17, val_mae, width, label='Validation')\n",
        "plt.bar(x + 0.17, test_mae, width, label='Test')\n",
        "plt.xticks(ticks=x, labels=performance.keys(),\n",
        "           rotation=45)\n",
        "plt.ylabel('MAE (average over all outputs)')\n",
        "_ = plt.legend()"
      ],
      "execution_count": null,
      "outputs": []
    },
    {
      "cell_type": "code",
      "metadata": {
        "execution": {
          "iopub.execute_input": "2021-01-21T02:44:34.632403Z",
          "iopub.status.busy": "2021-01-21T02:44:34.631843Z",
          "iopub.status.idle": "2021-01-21T02:44:34.634237Z",
          "shell.execute_reply": "2021-01-21T02:44:34.634578Z"
        },
        "id": "URz3ajCc6kBj"
      },
      "source": [
        "for name, value in performance.items():\n",
        "  print(f'{name:15s}: {value[1]:0.4f}')"
      ],
      "execution_count": null,
      "outputs": []
    },
    {
      "cell_type": "markdown",
      "metadata": {
        "id": "_Vt2MJhNxwPU"
      },
      "source": [
        "The above performances are averaged across all model outputs."
      ]
    },
    {
      "cell_type": "markdown",
      "metadata": {
        "id": "eYokb7Om2YbK"
      },
      "source": [
        "## Multi-step models\n",
        "\n",
        "Both the single-output and multiple-output models in the previous sections made **single time step predictions**, 1h into the future.\n",
        "\n",
        "This section looks at how to expand these models to make **multiple time step predictions**.\n",
        "\n",
        "In a multi-step prediction, the model needs to learn to predict a range of future values. Thus, unlike a single step model, where only a single future point is predicted, a multi-step model predicts a sequence of the future values.\n",
        "\n",
        "There are two rough approaches to this:\n",
        "\n",
        "1. Single shot predictions where the entire time series is predicted at once.\n",
        "2. Autoregressive predictions where the model only makes single step predictions and its output is fed back as its input.\n",
        "\n",
        "In this section all the models will predict **all the features across all output time steps**.\n"
      ]
    },
    {
      "cell_type": "markdown",
      "metadata": {
        "id": "WFsDAwVt4_rq"
      },
      "source": [
        "For the multi-step model, the training data again consists of hourly samples. However, here, the models will learn to predict 24h of the future, given 24h of the past.\n",
        "\n",
        "Here is a `Window` object that generates these slices from the dataset:"
      ]
    },
    {
      "cell_type": "code",
      "metadata": {
        "execution": {
          "iopub.execute_input": "2021-01-21T02:44:34.639256Z",
          "iopub.status.busy": "2021-01-21T02:44:34.638672Z",
          "iopub.status.idle": "2021-01-21T02:44:35.045091Z",
          "shell.execute_reply": "2021-01-21T02:44:35.045511Z"
        },
        "id": "1cFYtsz6XiGw"
      },
      "source": [
        "OUT_STEPS = 24\n",
        "multi_window = WindowGenerator(input_width=24,\n",
        "                               label_width=OUT_STEPS,\n",
        "                               shift=OUT_STEPS)\n",
        "\n",
        "multi_window.plot()\n",
        "multi_window"
      ],
      "execution_count": null,
      "outputs": []
    },
    {
      "cell_type": "markdown",
      "metadata": {
        "id": "5lg8SInh9Jzd"
      },
      "source": [
        "### Baselines"
      ]
    },
    {
      "cell_type": "markdown",
      "metadata": {
        "id": "axwpoWYOApJL"
      },
      "source": [
        "A simple baseline for this task is to repeat the last input time step for the required number of output timesteps:\n",
        "\n",
        "![Repeat the last input, for each output step](https://github.com/blacksnail789521/Programming_Practice/blob/master/ML/TensorFlow_tutorial/08_Audio/images/multistep_last.png?raw=1)"
      ]
    },
    {
      "cell_type": "code",
      "metadata": {
        "execution": {
          "iopub.execute_input": "2021-01-21T02:44:35.053558Z",
          "iopub.status.busy": "2021-01-21T02:44:35.052911Z",
          "iopub.status.idle": "2021-01-21T02:44:36.988258Z",
          "shell.execute_reply": "2021-01-21T02:44:36.988708Z"
        },
        "id": "_5iaHSaJ9Rxv"
      },
      "source": [
        "class MultiStepLastBaseline(tf.keras.Model):\n",
        "  def call(self, inputs):\n",
        "    return tf.tile(inputs[:, -1:, :], [1, OUT_STEPS, 1])\n",
        "\n",
        "last_baseline = MultiStepLastBaseline()\n",
        "last_baseline.compile(loss=tf.losses.MeanSquaredError(),\n",
        "                      metrics=[tf.metrics.MeanAbsoluteError()])\n",
        "\n",
        "multi_val_performance = {}\n",
        "multi_performance = {}\n",
        "\n",
        "multi_val_performance['Last'] = last_baseline.evaluate(multi_window.val)\n",
        "multi_performance['Last'] = last_baseline.evaluate(multi_window.test, verbose=0)\n",
        "multi_window.plot(last_baseline)"
      ],
      "execution_count": null,
      "outputs": []
    },
    {
      "cell_type": "markdown",
      "metadata": {
        "id": "AvHZ93ObAfMA"
      },
      "source": [
        "Since this task is to predict 24h given 24h another simple approach is to repeat the previous day, assuming tomorrow will be similar:\n",
        "\n",
        "![Repeat the previous day](https://github.com/blacksnail789521/Programming_Practice/blob/master/ML/TensorFlow_tutorial/08_Audio/images/multistep_repeat.png?raw=1)"
      ]
    },
    {
      "cell_type": "code",
      "metadata": {
        "execution": {
          "iopub.execute_input": "2021-01-21T02:44:36.996695Z",
          "iopub.status.busy": "2021-01-21T02:44:36.995960Z",
          "iopub.status.idle": "2021-01-21T02:44:39.171098Z",
          "shell.execute_reply": "2021-01-21T02:44:39.171575Z"
        },
        "id": "L8Y1uMhGwIRs"
      },
      "source": [
        "class RepeatBaseline(tf.keras.Model):\n",
        "  def call(self, inputs):\n",
        "    return inputs\n",
        "\n",
        "repeat_baseline = RepeatBaseline()\n",
        "repeat_baseline.compile(loss=tf.losses.MeanSquaredError(),\n",
        "                        metrics=[tf.metrics.MeanAbsoluteError()])\n",
        "\n",
        "multi_val_performance['Repeat'] = repeat_baseline.evaluate(multi_window.val)\n",
        "multi_performance['Repeat'] = repeat_baseline.evaluate(multi_window.test, verbose=0)\n",
        "multi_window.plot(repeat_baseline)"
      ],
      "execution_count": null,
      "outputs": []
    },
    {
      "cell_type": "markdown",
      "metadata": {
        "id": "tbndS-ct9C2Q"
      },
      "source": [
        "### Single-shot models\n",
        "\n",
        "One high level approach to this problem is use a \"single-shot\" model, where the model makes the entire sequence prediction in a single step.\n",
        "\n",
        "This can be implemented efficiently as a `layers.Dense` with `OUT_STEPS*features` output units. The model just needs to reshape that output to the required `(OUTPUT_STEPS, features)`."
      ]
    },
    {
      "cell_type": "markdown",
      "metadata": {
        "id": "NCKS4m1VKrDQ"
      },
      "source": [
        "#### Linear\n",
        "\n",
        "A simple linear model based on the last input time step does better than either baseline, but is underpowered. The model needs to predict `OUTPUT_STEPS` time steps, from a single input time step with a linear projection. It can only capture a low-dimensional slice of the behavior, likely based mainly on the time of day and time of year.\n",
        "\n",
        "![Predct all timesteps from the last time-step](https://github.com/blacksnail789521/Programming_Practice/blob/master/ML/TensorFlow_tutorial/08_Audio/images/multistep_dense.png?raw=1)"
      ]
    },
    {
      "cell_type": "code",
      "metadata": {
        "execution": {
          "iopub.execute_input": "2021-01-21T02:44:39.188631Z",
          "iopub.status.busy": "2021-01-21T02:44:39.187812Z",
          "iopub.status.idle": "2021-01-21T02:45:04.247187Z",
          "shell.execute_reply": "2021-01-21T02:45:04.247632Z"
        },
        "id": "kfRz_WVhIQcd"
      },
      "source": [
        "multi_linear_model = tf.keras.Sequential([\n",
        "    # Take the last time-step.\n",
        "    # Shape [batch, time, features] => [batch, 1, features]\n",
        "    tf.keras.layers.Lambda(lambda x: x[:, -1:, :]),\n",
        "    # Shape => [batch, 1, out_steps*features]\n",
        "    tf.keras.layers.Dense(OUT_STEPS*num_features,\n",
        "                          kernel_initializer=tf.initializers.zeros),\n",
        "    # Shape => [batch, out_steps, features]\n",
        "    tf.keras.layers.Reshape([OUT_STEPS, num_features])\n",
        "])\n",
        "\n",
        "history = compile_and_fit(multi_linear_model, multi_window)\n",
        "\n",
        "IPython.display.clear_output()\n",
        "multi_val_performance['Linear'] = multi_linear_model.evaluate(multi_window.val)\n",
        "multi_performance['Linear'] = multi_linear_model.evaluate(multi_window.test, verbose=0)\n",
        "multi_window.plot(multi_linear_model)"
      ],
      "execution_count": null,
      "outputs": []
    },
    {
      "cell_type": "markdown",
      "metadata": {
        "id": "zi2TMHk2IRrh"
      },
      "source": [
        "#### Dense\n",
        "\n",
        "Adding a `layers.Dense` between the input and output gives the linear model more power, but is still only based on a single input timestep."
      ]
    },
    {
      "cell_type": "code",
      "metadata": {
        "execution": {
          "iopub.execute_input": "2021-01-21T02:45:04.259139Z",
          "iopub.status.busy": "2021-01-21T02:45:04.258094Z",
          "iopub.status.idle": "2021-01-21T02:46:17.695300Z",
          "shell.execute_reply": "2021-01-21T02:46:17.695748Z"
        },
        "id": "jezm-BKaGj91"
      },
      "source": [
        "multi_dense_model = tf.keras.Sequential([\n",
        "    # Take the last time step.\n",
        "    # Shape [batch, time, features] => [batch, 1, features]\n",
        "    tf.keras.layers.Lambda(lambda x: x[:, -1:, :]),\n",
        "    # Shape => [batch, 1, dense_units]\n",
        "    tf.keras.layers.Dense(512, activation='relu'),\n",
        "    # Shape => [batch, out_steps*features]\n",
        "    tf.keras.layers.Dense(OUT_STEPS*num_features,\n",
        "                          kernel_initializer=tf.initializers.zeros),\n",
        "    # Shape => [batch, out_steps, features]\n",
        "    tf.keras.layers.Reshape([OUT_STEPS, num_features])\n",
        "])\n",
        "\n",
        "history = compile_and_fit(multi_dense_model, multi_window)\n",
        "\n",
        "IPython.display.clear_output()\n",
        "multi_val_performance['Dense'] = multi_dense_model.evaluate(multi_window.val)\n",
        "multi_performance['Dense'] = multi_dense_model.evaluate(multi_window.test, verbose=0)\n",
        "multi_window.plot(multi_dense_model)"
      ],
      "execution_count": null,
      "outputs": []
    },
    {
      "cell_type": "markdown",
      "metadata": {
        "id": "icsBAjCzMaMl"
      },
      "source": [
        "#### CNN"
      ]
    },
    {
      "cell_type": "markdown",
      "metadata": {
        "id": "34lCZrWYNBwd"
      },
      "source": [
        "A convolutional model makes predictions based on a fixed-width history, which may lead to better performance than the dense model since it can see how things are changing over time:\n",
        "\n",
        "![A convolutional model sees how things change over time](https://github.com/blacksnail789521/Programming_Practice/blob/master/ML/TensorFlow_tutorial/08_Audio/images/multistep_conv.png?raw=1)"
      ]
    },
    {
      "cell_type": "code",
      "metadata": {
        "execution": {
          "iopub.execute_input": "2021-01-21T02:46:17.709648Z",
          "iopub.status.busy": "2021-01-21T02:46:17.708886Z",
          "iopub.status.idle": "2021-01-21T02:47:19.979693Z",
          "shell.execute_reply": "2021-01-21T02:47:19.980166Z"
        },
        "id": "0xJoIP6PMWMI"
      },
      "source": [
        "CONV_WIDTH = 3\n",
        "multi_conv_model = tf.keras.Sequential([\n",
        "    # Shape [batch, time, features] => [batch, CONV_WIDTH, features]\n",
        "    tf.keras.layers.Lambda(lambda x: x[:, -CONV_WIDTH:, :]),\n",
        "    # Shape => [batch, 1, conv_units]\n",
        "    tf.keras.layers.Conv1D(256, activation='relu', kernel_size=(CONV_WIDTH)),\n",
        "    # Shape => [batch, 1,  out_steps*features]\n",
        "    tf.keras.layers.Dense(OUT_STEPS*num_features,\n",
        "                          kernel_initializer=tf.initializers.zeros),\n",
        "    # Shape => [batch, out_steps, features]\n",
        "    tf.keras.layers.Reshape([OUT_STEPS, num_features])\n",
        "])\n",
        "\n",
        "history = compile_and_fit(multi_conv_model, multi_window)\n",
        "\n",
        "IPython.display.clear_output()\n",
        "\n",
        "multi_val_performance['Conv'] = multi_conv_model.evaluate(multi_window.val)\n",
        "multi_performance['Conv'] = multi_conv_model.evaluate(multi_window.test, verbose=0)\n",
        "multi_window.plot(multi_conv_model)"
      ],
      "execution_count": null,
      "outputs": []
    },
    {
      "cell_type": "markdown",
      "metadata": {
        "id": "weBjeZAFJOP4"
      },
      "source": [
        "#### RNN"
      ]
    },
    {
      "cell_type": "markdown",
      "metadata": {
        "id": "8022xOKxOO92"
      },
      "source": [
        "A recurrent model can learn to use a long history of inputs, if it's relevant to the predictions the model is making. Here the model will accumulate internal state for 24h, before making a single prediction for the next 24h.\n",
        "\n",
        "In this single-shot format, the LSTM only needs to produce an output at the last time step, so set `return_sequences=False`.\n",
        "\n",
        "![The lstm accumulates state over the input window, and makes a single prediction for the next 24h](https://github.com/blacksnail789521/Programming_Practice/blob/master/ML/TensorFlow_tutorial/08_Audio/images/multistep_lstm.png?raw=1)\n"
      ]
    },
    {
      "cell_type": "code",
      "metadata": {
        "execution": {
          "iopub.execute_input": "2021-01-21T02:47:19.993924Z",
          "iopub.status.busy": "2021-01-21T02:47:19.993238Z",
          "iopub.status.idle": "2021-01-21T02:48:30.751962Z",
          "shell.execute_reply": "2021-01-21T02:48:30.752465Z"
        },
        "id": "Bf1ks6RTzF64"
      },
      "source": [
        "multi_lstm_model = tf.keras.Sequential([\n",
        "    # Shape [batch, time, features] => [batch, lstm_units]\n",
        "    # Adding more `lstm_units` just overfits more quickly.\n",
        "    tf.keras.layers.LSTM(32, return_sequences=False),\n",
        "    # Shape => [batch, out_steps*features]\n",
        "    tf.keras.layers.Dense(OUT_STEPS*num_features,\n",
        "                          kernel_initializer=tf.initializers.zeros),\n",
        "    # Shape => [batch, out_steps, features]\n",
        "    tf.keras.layers.Reshape([OUT_STEPS, num_features])\n",
        "])\n",
        "\n",
        "history = compile_and_fit(multi_lstm_model, multi_window)\n",
        "\n",
        "IPython.display.clear_output()\n",
        "\n",
        "multi_val_performance['LSTM'] = multi_lstm_model.evaluate(multi_window.val)\n",
        "multi_performance['LSTM'] = multi_lstm_model.evaluate(multi_window.test, verbose=0)\n",
        "multi_window.plot(multi_lstm_model)"
      ],
      "execution_count": null,
      "outputs": []
    },
    {
      "cell_type": "markdown",
      "metadata": {
        "id": "d5n-1cDW12Vo"
      },
      "source": [
        "### Advanced: Autoregressive model\n",
        "\n",
        "The above models all predict the entire output sequence in a single step.\n",
        "\n",
        "In some cases it may be helpful for the model to decompose this prediction into individual time steps. Then each model's output can be fed back into itself at each step and predictions can be made conditioned on the previous one, like in the classic [Generating Sequences With Recurrent Neural Networks](https://arxiv.org/abs/1308.0850).\n",
        "\n",
        "One clear advantage to this style of model is that it can be set up to produce output with a varying length.\n",
        "\n",
        "You could take any of the single-step multi-output models trained in the first half of this tutorial and run  in an autoregressive feedback loop, but here you'll focus on building a model that's been explicitly trained to do that.\n",
        "\n",
        "![Feedback a model's output to its input](https://github.com/blacksnail789521/Programming_Practice/blob/master/ML/TensorFlow_tutorial/08_Audio/images/multistep_autoregressive.png?raw=1)\n"
      ]
    },
    {
      "cell_type": "markdown",
      "metadata": {
        "id": "PKRreBbULRXY"
      },
      "source": [
        "#### RNN\n",
        "\n",
        "This tutorial only builds an autoregressive RNN model, but this pattern could be applied to any model that was designed to output a single timestep.\n",
        "\n",
        "The model will have the same basic form as the single-step `LSTM` models: An `LSTM` followed by a `layers.Dense` that converts the `LSTM` outputs to model predictions.\n",
        "\n",
        "A `layers.LSTM` is a `layers.LSTMCell` wrapped in the higher level `layers.RNN` that manages the state and sequence results for you (See [Keras RNNs](https://www.tensorflow.org/guide/keras/rnn) for details).\n",
        "\n",
        "In this case the model has to manually manage the inputs for each step so it uses `layers.LSTMCell` directly for the lower level, single time step interface."
      ]
    },
    {
      "cell_type": "code",
      "metadata": {
        "execution": {
          "iopub.execute_input": "2021-01-21T02:48:30.759332Z",
          "iopub.status.busy": "2021-01-21T02:48:30.758606Z",
          "iopub.status.idle": "2021-01-21T02:48:30.760798Z",
          "shell.execute_reply": "2021-01-21T02:48:30.760271Z"
        },
        "id": "s5tz3Nu0R5JG"
      },
      "source": [
        "class FeedBack(tf.keras.Model):\n",
        "  def __init__(self, units, out_steps):\n",
        "    super().__init__()\n",
        "    self.out_steps = out_steps\n",
        "    self.units = units\n",
        "    self.lstm_cell = tf.keras.layers.LSTMCell(units)\n",
        "    # Also wrap the LSTMCell in an RNN to simplify the `warmup` method.\n",
        "    self.lstm_rnn = tf.keras.layers.RNN(self.lstm_cell, return_state=True)\n",
        "    self.dense = tf.keras.layers.Dense(num_features)"
      ],
      "execution_count": null,
      "outputs": []
    },
    {
      "cell_type": "code",
      "metadata": {
        "execution": {
          "iopub.execute_input": "2021-01-21T02:48:30.767687Z",
          "iopub.status.busy": "2021-01-21T02:48:30.767085Z",
          "iopub.status.idle": "2021-01-21T02:48:30.780536Z",
          "shell.execute_reply": "2021-01-21T02:48:30.780978Z"
        },
        "id": "2OXVM9G1U7xR"
      },
      "source": [
        "feedback_model = FeedBack(units=32, out_steps=OUT_STEPS)"
      ],
      "execution_count": null,
      "outputs": []
    },
    {
      "cell_type": "markdown",
      "metadata": {
        "id": "ph5uFSfTUNho"
      },
      "source": [
        "The first method this model needs is a `warmup` method to initialize its internal state based on the inputs. Once trained this state will capture the relevant parts of the input history. This is equivalent to the single-step `LSTM` model from earlier:"
      ]
    },
    {
      "cell_type": "code",
      "metadata": {
        "execution": {
          "iopub.execute_input": "2021-01-21T02:48:30.786135Z",
          "iopub.status.busy": "2021-01-21T02:48:30.785508Z",
          "iopub.status.idle": "2021-01-21T02:48:30.787201Z",
          "shell.execute_reply": "2021-01-21T02:48:30.787601Z"
        },
        "id": "vM2K_LLdRjDZ"
      },
      "source": [
        "def warmup(self, inputs):\n",
        "  # inputs.shape => (batch, time, features)\n",
        "  # x.shape => (batch, lstm_units)\n",
        "  x, *state = self.lstm_rnn(inputs)\n",
        "\n",
        "  # predictions.shape => (batch, features)\n",
        "  prediction = self.dense(x)\n",
        "  return prediction, state\n",
        "\n",
        "FeedBack.warmup = warmup"
      ],
      "execution_count": null,
      "outputs": []
    },
    {
      "cell_type": "markdown",
      "metadata": {
        "id": "6JkaSYaZ9eB7"
      },
      "source": [
        "This method returns a single time-step prediction, and the internal state of the LSTM:"
      ]
    },
    {
      "cell_type": "code",
      "metadata": {
        "execution": {
          "iopub.execute_input": "2021-01-21T02:48:30.792206Z",
          "iopub.status.busy": "2021-01-21T02:48:30.791636Z",
          "iopub.status.idle": "2021-01-21T02:48:30.830309Z",
          "shell.execute_reply": "2021-01-21T02:48:30.829794Z"
        },
        "id": "w9Fz6NTKXXwU"
      },
      "source": [
        "prediction, state = feedback_model.warmup(multi_window.example[0])\n",
        "prediction.shape"
      ],
      "execution_count": null,
      "outputs": []
    },
    {
      "cell_type": "markdown",
      "metadata": {
        "id": "S_ZdvPjdX3y3"
      },
      "source": [
        "With the `RNN`'s state, and an initial prediction you can now continue iterating the model feeding the predictions at each step back as the input.\n",
        "\n",
        "The simplest approach to collecting the output predictions is to use a python list, and `tf.stack` after the loop."
      ]
    },
    {
      "cell_type": "markdown",
      "metadata": {
        "id": "yotTad3nZXQU"
      },
      "source": [
        "Note: Stacking a python list like this only works with eager-execution, using `Model.compile(..., run_eagerly=True)` for training, or with a fixed length output. For a dynamic output length you would need to use a `tf.TensorArray` instead of a python list, and `tf.range` instead of the python `range`."
      ]
    },
    {
      "cell_type": "code",
      "metadata": {
        "execution": {
          "iopub.execute_input": "2021-01-21T02:48:30.836676Z",
          "iopub.status.busy": "2021-01-21T02:48:30.836002Z",
          "iopub.status.idle": "2021-01-21T02:48:30.837687Z",
          "shell.execute_reply": "2021-01-21T02:48:30.838055Z"
        },
        "id": "g1GRDu3mZtr9"
      },
      "source": [
        "def call(self, inputs, training=None):\n",
        "  # Use a TensorArray to capture dynamically unrolled outputs.\n",
        "  predictions = []\n",
        "  # Initialize the lstm state\n",
        "  prediction, state = self.warmup(inputs)\n",
        "\n",
        "  # Insert the first prediction\n",
        "  predictions.append(prediction)\n",
        "\n",
        "  # Run the rest of the prediction steps\n",
        "  for n in range(1, self.out_steps):\n",
        "    # Use the last prediction as input.\n",
        "    x = prediction\n",
        "    # Execute one lstm step.\n",
        "    x, state = self.lstm_cell(x, states=state,\n",
        "                              training=training)\n",
        "    # Convert the lstm output to a prediction.\n",
        "    prediction = self.dense(x)\n",
        "    # Add the prediction to the output\n",
        "    predictions.append(prediction)\n",
        "\n",
        "  # predictions.shape => (time, batch, features)\n",
        "  predictions = tf.stack(predictions)\n",
        "  # predictions.shape => (batch, time, features)\n",
        "  predictions = tf.transpose(predictions, [1, 0, 2])\n",
        "  return predictions\n",
        "\n",
        "FeedBack.call = call"
      ],
      "execution_count": null,
      "outputs": []
    },
    {
      "cell_type": "markdown",
      "metadata": {
        "id": "Ubop-YWp15XW"
      },
      "source": [
        "Test run this model on the example inputs:"
      ]
    },
    {
      "cell_type": "code",
      "metadata": {
        "execution": {
          "iopub.execute_input": "2021-01-21T02:48:30.842353Z",
          "iopub.status.busy": "2021-01-21T02:48:30.841749Z",
          "iopub.status.idle": "2021-01-21T02:48:30.887893Z",
          "shell.execute_reply": "2021-01-21T02:48:30.887340Z"
        },
        "id": "Xja83zEYaM2D"
      },
      "source": [
        "print('Output shape (batch, time, features): ', feedback_model(multi_window.example[0]).shape)"
      ],
      "execution_count": null,
      "outputs": []
    },
    {
      "cell_type": "markdown",
      "metadata": {
        "id": "qMs0rYB8be9M"
      },
      "source": [
        "Now train the model:"
      ]
    },
    {
      "cell_type": "code",
      "metadata": {
        "execution": {
          "iopub.execute_input": "2021-01-21T02:48:30.898700Z",
          "iopub.status.busy": "2021-01-21T02:48:30.897988Z",
          "iopub.status.idle": "2021-01-21T02:59:51.392324Z",
          "shell.execute_reply": "2021-01-21T02:59:51.392811Z"
        },
        "id": "VBRVG2hnNyrO"
      },
      "source": [
        "history = compile_and_fit(feedback_model, multi_window)\n",
        "\n",
        "IPython.display.clear_output()\n",
        "\n",
        "multi_val_performance['AR LSTM'] = feedback_model.evaluate(multi_window.val)\n",
        "multi_performance['AR LSTM'] = feedback_model.evaluate(multi_window.test, verbose=0)\n",
        "multi_window.plot(feedback_model)"
      ],
      "execution_count": null,
      "outputs": []
    },
    {
      "cell_type": "markdown",
      "metadata": {
        "id": "hGjcJsAQJUkI"
      },
      "source": [
        "### Performance"
      ]
    },
    {
      "cell_type": "markdown",
      "metadata": {
        "id": "sODAwr2ndtDB"
      },
      "source": [
        "There are clearly diminishing returns as a function of model complexity on this problem."
      ]
    },
    {
      "cell_type": "code",
      "metadata": {
        "execution": {
          "iopub.execute_input": "2021-01-21T02:59:51.414419Z",
          "iopub.status.busy": "2021-01-21T02:59:51.413360Z",
          "iopub.status.idle": "2021-01-21T02:59:51.560061Z",
          "shell.execute_reply": "2021-01-21T02:59:51.559487Z"
        },
        "id": "WZwWBA8S6B3L"
      },
      "source": [
        "x = np.arange(len(multi_performance))\n",
        "width = 0.3\n",
        "\n",
        "\n",
        "metric_name = 'mean_absolute_error'\n",
        "metric_index = lstm_model.metrics_names.index('mean_absolute_error')\n",
        "val_mae = [v[metric_index] for v in multi_val_performance.values()]\n",
        "test_mae = [v[metric_index] for v in multi_performance.values()]\n",
        "\n",
        "plt.bar(x - 0.17, val_mae, width, label='Validation')\n",
        "plt.bar(x + 0.17, test_mae, width, label='Test')\n",
        "plt.xticks(ticks=x, labels=multi_performance.keys(),\n",
        "           rotation=45)\n",
        "plt.ylabel(f'MAE (average over all times and outputs)')\n",
        "_ = plt.legend()"
      ],
      "execution_count": null,
      "outputs": []
    },
    {
      "cell_type": "markdown",
      "metadata": {
        "id": "Zq3hUsedCEmJ"
      },
      "source": [
        "The metrics for the multi-output models in the first half of this tutorial show the performance averaged across all output features. These performances similar but also averaged across output timesteps. "
      ]
    },
    {
      "cell_type": "code",
      "metadata": {
        "execution": {
          "iopub.execute_input": "2021-01-21T02:59:51.565067Z",
          "iopub.status.busy": "2021-01-21T02:59:51.564194Z",
          "iopub.status.idle": "2021-01-21T02:59:51.566852Z",
          "shell.execute_reply": "2021-01-21T02:59:51.567258Z"
        },
        "id": "jKq3eAIvH4Db"
      },
      "source": [
        "for name, value in multi_performance.items():\n",
        "  print(f'{name:8s}: {value[1]:0.4f}')"
      ],
      "execution_count": null,
      "outputs": []
    },
    {
      "cell_type": "markdown",
      "metadata": {
        "id": "MpBFwfnaHP23"
      },
      "source": [
        "The gains achieved going from a dense model to convolutional and recurrent models are only a few percent (if any), and the autoregressive model performed clearly worse. So these more complex approaches may not be worth while on **this** problem, but there was no way to know without trying, and these models could be helpful for **your** problem."
      ]
    },
    {
      "cell_type": "markdown",
      "metadata": {
        "id": "pOzaIRYBhqwg"
      },
      "source": [
        "## Next steps\n",
        "\n",
        "This tutorial was a quick introduction to time series forecasting using TensorFlow.\n",
        "\n",
        "* For further understanding, see:\n",
        "  * Chapter 15 of [Hands-on Machine Learning with Scikit-Learn, Keras, and TensorFlow](https://www.oreilly.com/library/view/hands-on-machine-learning/9781492032632/), 2nd Edition \n",
        "  * Chapter 6 of [Deep Learning with Python](https://www.manning.com/books/deep-learning-with-python).\n",
        "  * Lesson 8 of [Udacity's intro to TensorFlow for deep learning](https://www.udacity.com/course/intro-to-tensorflow-for-deep-learning--ud187), and the [exercise notebooks](https://github.com/tensorflow/examples/tree/master/courses/udacity_intro_to_tensorflow_for_deep_learning) \n",
        "* Also remember that you can implement any [classical time series model](https://otexts.com/fpp2/index.html) in TensorFlow, this tutorial just focuses on TensorFlow's built-in functionality."
      ]
    }
  ]
}