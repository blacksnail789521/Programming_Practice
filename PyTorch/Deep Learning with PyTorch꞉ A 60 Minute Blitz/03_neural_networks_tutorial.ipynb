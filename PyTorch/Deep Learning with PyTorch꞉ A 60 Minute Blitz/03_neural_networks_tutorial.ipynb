{
  "nbformat": 4,
  "nbformat_minor": 0,
  "metadata": {
    "kernelspec": {
      "display_name": "Python 3",
      "language": "python",
      "name": "python3"
    },
    "language_info": {
      "codemirror_mode": {
        "name": "ipython",
        "version": 3
      },
      "file_extension": ".py",
      "mimetype": "text/x-python",
      "name": "python",
      "nbconvert_exporter": "python",
      "pygments_lexer": "ipython3",
      "version": "3.8.5"
    },
    "colab": {
      "name": "03_neural_networks_tutorial.ipynb",
      "provenance": []
    },
    "accelerator": "GPU"
  },
  "cells": [
    {
      "cell_type": "code",
      "metadata": {
        "jupyter": {
          "outputs_hidden": false
        },
        "id": "BbykDoYCAF0x"
      },
      "source": [
        "%matplotlib inline"
      ],
      "execution_count": 1,
      "outputs": []
    },
    {
      "cell_type": "markdown",
      "metadata": {
        "id": "1_gLsel-AF00"
      },
      "source": [
        "\n",
        "Neural Networks\n",
        "===============\n",
        "\n",
        "Neural networks can be constructed using the ``torch.nn`` package.\n",
        "\n",
        "Now that you had a glimpse of ``autograd``, ``nn`` depends on\n",
        "``autograd`` to define models and differentiate them.\n",
        "An ``nn.Module`` contains layers, and a method ``forward(input)``\\ that\n",
        "returns the ``output``.\n",
        "\n",
        "For example, look at this network that classifies digit images: (LeNet-5)\n",
        "\n",
        "![mnist.png](https://raw.githubusercontent.com/blacksnail789521/Programming_Practice/master/PyTorch/Deep%20Learning%20with%20PyTorch%EA%9E%89%20A%2060%20Minute%20Blitz/img/mnist.png)\n",
        "\n",
        "\n",
        "It is a simple feed-forward network. It takes the input, feeds it\n",
        "through several layers one after the other, and then finally gives the\n",
        "output.\n",
        "\n",
        "A typical training procedure for a neural network is as follows:\n",
        "\n",
        "- Define the neural network that has some learnable parameters (or\n",
        "  weights)\n",
        "- Iterate over a dataset of inputs\n",
        "- Process input through the network\n",
        "- Compute the loss (how far is the output from being correct)\n",
        "- Propagate gradients back into the network’s parameters\n",
        "- Update the weights of the network, typically using a simple update rule:\n",
        "  ``weight = weight - learning_rate * gradient``\n",
        "\n",
        "Define the network (LeNet-3 instead of LeNet-5)\n",
        "------------------\n",
        "\n",
        "Let’s define this network:\n",
        "\n"
      ]
    },
    {
      "cell_type": "code",
      "metadata": {
        "jupyter": {
          "outputs_hidden": false
        },
        "id": "mVVLWt2KAF01",
        "outputId": "700b1025-eb48-4cd9-d2ac-de2e0c7ce414",
        "colab": {
          "base_uri": "https://localhost:8080/"
        }
      },
      "source": [
        "# How to calculate the dimension for each layer?\n",
        "# https://datascience.stackexchange.com/questions/58385/layer-shape-computation-in-convolutional-neural-net-pytorch\n",
        "\n",
        "import torch\n",
        "import torch.nn as nn\n",
        "import torch.nn.functional as F\n",
        "\n",
        "\n",
        "class Net(nn.Module):\n",
        "\n",
        "    def __init__(self):\n",
        "        super(Net, self).__init__()\n",
        "        # 1 input image channel, 6 output channels, 3x3 square convolution\n",
        "        # kernel\n",
        "        self.conv1 = nn.Conv2d(1, 6, 3)\n",
        "        self.conv2 = nn.Conv2d(6, 16, 3)\n",
        "        # (fc stands for full connection) an affine operation: y = Wx + b\n",
        "        self.fc1 = nn.Linear(16 * 6 * 6, 120)  # 6*6 from image dimension \n",
        "        self.fc2 = nn.Linear(120, 84)\n",
        "        self.fc3 = nn.Linear(84, 10)\n",
        "\n",
        "    def forward(self, x):\n",
        "        # Max pooling over a (2, 2) window\n",
        "        x = F.max_pool2d(F.relu(self.conv1(x)), (2, 2))\n",
        "        # If the size is a square you can only specify a single number\n",
        "        x = F.max_pool2d(F.relu(self.conv2(x)), 2)\n",
        "        x = x.view(-1, self.num_flat_features(x))\n",
        "        x = F.relu(self.fc1(x))\n",
        "        x = F.relu(self.fc2(x))\n",
        "        x = self.fc3(x)\n",
        "        return x\n",
        "\n",
        "    def num_flat_features(self, x):\n",
        "        size = x.size()[1:]  # all dimensions except the batch dimension\n",
        "        num_features = 1\n",
        "        for s in size:\n",
        "            num_features *= s\n",
        "        return num_features\n",
        "\n",
        "\n",
        "net = Net()\n",
        "print(net)"
      ],
      "execution_count": 2,
      "outputs": [
        {
          "output_type": "stream",
          "text": [
            "Net(\n",
            "  (conv1): Conv2d(1, 6, kernel_size=(3, 3), stride=(1, 1))\n",
            "  (conv2): Conv2d(6, 16, kernel_size=(3, 3), stride=(1, 1))\n",
            "  (fc1): Linear(in_features=576, out_features=120, bias=True)\n",
            "  (fc2): Linear(in_features=120, out_features=84, bias=True)\n",
            "  (fc3): Linear(in_features=84, out_features=10, bias=True)\n",
            ")\n"
          ],
          "name": "stdout"
        }
      ]
    },
    {
      "cell_type": "markdown",
      "metadata": {
        "id": "98Mbv2VbAF02"
      },
      "source": [
        "You just have to define the ``forward`` function, and the ``backward``\n",
        "function (where gradients are computed) is automatically defined for you\n",
        "using ``autograd``.\n",
        "You can use any of the Tensor operations in the ``forward`` function.\n",
        "\n",
        "The learnable parameters of a model are returned by ``net.parameters()``\n",
        "\n"
      ]
    },
    {
      "cell_type": "code",
      "metadata": {
        "jupyter": {
          "outputs_hidden": false
        },
        "id": "0uv4jhgEAF03",
        "outputId": "2315cb23-0481-427e-f455-6b5160cf4373",
        "colab": {
          "base_uri": "https://localhost:8080/"
        }
      },
      "source": [
        "params = list(net.parameters())\n",
        "print(len(params))\n",
        "for i in range(len(params)):\n",
        "    print(params[i].size())"
      ],
      "execution_count": 3,
      "outputs": [
        {
          "output_type": "stream",
          "text": [
            "10\n",
            "torch.Size([6, 1, 3, 3])\n",
            "torch.Size([6])\n",
            "torch.Size([16, 6, 3, 3])\n",
            "torch.Size([16])\n",
            "torch.Size([120, 576])\n",
            "torch.Size([120])\n",
            "torch.Size([84, 120])\n",
            "torch.Size([84])\n",
            "torch.Size([10, 84])\n",
            "torch.Size([10])\n"
          ],
          "name": "stdout"
        }
      ]
    },
    {
      "cell_type": "markdown",
      "metadata": {
        "id": "EqmldGHaAF03"
      },
      "source": [
        "Let's try a random 32x32 input.\n",
        "Note: expected input size of this net (LeNet) is 32x32. To use this net on\n",
        "the MNIST dataset, please resize the images from the dataset to 32x32.\n",
        "\n"
      ]
    },
    {
      "cell_type": "code",
      "metadata": {
        "jupyter": {
          "outputs_hidden": false
        },
        "id": "OqXrpzRfAF04",
        "outputId": "13e587c9-8056-4186-aa95-5998797a0d87",
        "colab": {
          "base_uri": "https://localhost:8080/"
        }
      },
      "source": [
        "input = torch.randn(1, 1, 32, 32)\n",
        "out = net(input)\n",
        "print(out)"
      ],
      "execution_count": 4,
      "outputs": [
        {
          "output_type": "stream",
          "text": [
            "tensor([[-0.0739, -0.1764, -0.0564,  0.0288,  0.0570,  0.0105,  0.1098,  0.0670,\n",
            "          0.0803,  0.0549]], grad_fn=<AddmmBackward>)\n"
          ],
          "name": "stdout"
        }
      ]
    },
    {
      "cell_type": "markdown",
      "metadata": {
        "id": "eWmWojxdAF04"
      },
      "source": [
        "Zero the gradient buffers of all parameters and backprops with random\n",
        "gradients:"
      ]
    },
    {
      "cell_type": "code",
      "metadata": {
        "jupyter": {
          "outputs_hidden": false
        },
        "id": "hnCyfZOXAF05"
      },
      "source": [
        "# Why do we need to call zero_grad() in PyTorch?\n",
        "\n",
        "# In PyTorch, we need to set the gradients to zero before starting to do \n",
        "# backpropragation because PyTorch accumulates the gradients on subsequent \n",
        "# backward passes. (This is convenient while training RNNs.)\n",
        "\n",
        "net.zero_grad()\n",
        "out.backward(torch.randn(1, 10))"
      ],
      "execution_count": 5,
      "outputs": []
    },
    {
      "cell_type": "markdown",
      "metadata": {
        "id": "ADmbw6EZ2Odw"
      },
      "source": [
        "---\r\n",
        "\r\n",
        "***Note***\r\n",
        "\r\n",
        "``torch.nn`` only supports mini-batches. The entire ``torch.nn``\r\n",
        "package only supports inputs that are a mini-batch of samples, and not\r\n",
        "a single sample.\r\n",
        "\r\n",
        "For example, ``nn.Conv2d`` will take in a 4D Tensor of\r\n",
        "``nSamples x nChannels x Height x Width``.\r\n",
        "\r\n",
        "If you have a single sample, just use ``input.unsqueeze(0)`` to add\r\n",
        "a fake batch dimension.\r\n",
        "\r\n",
        "---"
      ]
    },
    {
      "cell_type": "markdown",
      "metadata": {
        "id": "Btr2NXB95QSn"
      },
      "source": [
        "Before proceeding further, let's recap all the classes you’ve seen so far.\r\n",
        "\r\n",
        "**Recap:**\r\n",
        "  -  ``torch.Tensor`` - A *multi-dimensional array* with support for autograd\r\n",
        "     operations like ``backward()``. Also *holds the gradient* w.r.t. the\r\n",
        "     tensor.\r\n",
        "  -  ``nn.Module`` - Neural network module. *Convenient way of\r\n",
        "     encapsulating parameters*, with helpers for moving them to GPU,\r\n",
        "     exporting, loading, etc.\r\n",
        "  -  ``nn.Parameter`` - A kind of Tensor, that is *automatically\r\n",
        "     registered as a parameter when assigned as an attribute to a*\r\n",
        "     ``Module``.\r\n",
        "  -  ``autograd.Function`` - Implements *forward and backward definitions\r\n",
        "     of an autograd operation*. Every ``Tensor`` operation creates at\r\n",
        "     least a single ``Function`` node that connects to functions that\r\n",
        "     created a ``Tensor`` and *encodes its history*.\r\n",
        "\r\n",
        "**At this point, we covered:**\r\n",
        "  -  Defining a neural network\r\n",
        "  -  Processing inputs and calling backward\r\n",
        "\r\n",
        "**Still Left:**\r\n",
        "  -  Computing the loss\r\n",
        "  -  Updating the weights of the network"
      ]
    },
    {
      "cell_type": "markdown",
      "metadata": {
        "id": "cyC9rin5AF05"
      },
      "source": [
        "Loss Function\n",
        "-------------\n",
        "A loss function takes the (output, target) pair of inputs, and computes a\n",
        "value that estimates how far away the output is from the target.\n",
        "\n",
        "There are several different [loss functions](https://pytorch.org/docs/stable/nn.html#loss-functions) under the\n",
        "nn package .\n",
        "A simple loss is: ``nn.MSELoss`` which computes the mean-squared error\n",
        "between the input and the target.\n",
        "\n",
        "For example:\n",
        "\n"
      ]
    },
    {
      "cell_type": "code",
      "metadata": {
        "jupyter": {
          "outputs_hidden": false
        },
        "id": "csqE867UAF06",
        "outputId": "0fe26e89-73db-4a57-8f62-41e230c325fb",
        "colab": {
          "base_uri": "https://localhost:8080/"
        }
      },
      "source": [
        "output = net(input)\n",
        "target = torch.randn(10)  # a dummy target, for example\n",
        "target = target.view(1, -1)  # make it the same shape as output\n",
        "print(f'output: {output}')\n",
        "print(f'target: {target}')\n",
        "\n",
        "criterion = nn.MSELoss()\n",
        "\n",
        "loss = criterion(output, target)\n",
        "print(loss)"
      ],
      "execution_count": 6,
      "outputs": [
        {
          "output_type": "stream",
          "text": [
            "output: tensor([[-0.0739, -0.1764, -0.0564,  0.0288,  0.0570,  0.0105,  0.1098,  0.0670,\n",
            "          0.0803,  0.0549]], grad_fn=<AddmmBackward>)\n",
            "target: tensor([[-0.3726, -0.0349,  1.7912,  0.7971,  0.7094, -0.9510, -0.5788,  1.3868,\n",
            "         -0.3176, -0.6577]])\n",
            "tensor(0.8346, grad_fn=<MseLossBackward>)\n"
          ],
          "name": "stdout"
        }
      ]
    },
    {
      "cell_type": "markdown",
      "metadata": {
        "id": "SRcQJuHiAF06"
      },
      "source": [
        "Now, if you follow ``loss`` in the backward direction, using its\n",
        "``.grad_fn`` attribute, you will see a graph of computations that looks\n",
        "like this:\n",
        "\n",
        "    input -> conv2d -> relu -> maxpool2d -> conv2d -> relu -> maxpool2d\n",
        "          -> view -> linear -> relu -> linear -> relu -> linear\n",
        "          -> MSELoss\n",
        "          -> loss\n",
        "\n",
        "So, when we call ``loss.backward()``, the whole graph is differentiated\n",
        "w.r.t. the loss, and all Tensors in the graph that has ``requires_grad=True``\n",
        "will have their ``.grad`` Tensor accumulated with the gradient.\n",
        "\n",
        "For illustration, let us follow a few steps backward:\n",
        "\n"
      ]
    },
    {
      "cell_type": "code",
      "metadata": {
        "jupyter": {
          "outputs_hidden": false
        },
        "id": "p-vC9Qp8AF06",
        "outputId": "9e1a3f95-8d41-4de1-d205-e9b601d22829",
        "colab": {
          "base_uri": "https://localhost:8080/"
        }
      },
      "source": [
        "print(loss.grad_fn)  # MSELoss\n",
        "print(loss.grad_fn.next_functions[0][0])  # Linear\n",
        "print(loss.grad_fn.next_functions[0][0].next_functions[0][0])  # ReLU"
      ],
      "execution_count": 7,
      "outputs": [
        {
          "output_type": "stream",
          "text": [
            "<MseLossBackward object at 0x7ff780163358>\n",
            "<AddmmBackward object at 0x7ff780163080>\n",
            "<AccumulateGrad object at 0x7ff780163358>\n"
          ],
          "name": "stdout"
        }
      ]
    },
    {
      "cell_type": "markdown",
      "metadata": {
        "id": "H9kQ5NWCAF06"
      },
      "source": [
        "Backprop\n",
        "--------\n",
        "To backpropagate the error all we have to do is to ``loss.backward()``.\n",
        "You need to clear the existing gradients though, else gradients will be\n",
        "accumulated to existing gradients.\n",
        "\n",
        "\n",
        "Now we shall call ``loss.backward()``, and have a look at conv1's bias\n",
        "gradients before and after the backward.\n",
        "\n"
      ]
    },
    {
      "cell_type": "code",
      "metadata": {
        "jupyter": {
          "outputs_hidden": false
        },
        "id": "3NCbAO8NAF07",
        "outputId": "ce74b1c4-2df5-44f6-e8cd-869b7646c39a",
        "colab": {
          "base_uri": "https://localhost:8080/"
        }
      },
      "source": [
        "net.zero_grad()     # zeroes the gradient buffers of all parameters\n",
        "\n",
        "print('conv1.bias.grad before backward')\n",
        "print(net.conv1.bias.grad)\n",
        "\n",
        "loss.backward()\n",
        "\n",
        "print('conv1.bias.grad after backward')\n",
        "print(net.conv1.bias.grad)"
      ],
      "execution_count": 8,
      "outputs": [
        {
          "output_type": "stream",
          "text": [
            "conv1.bias.grad before backward\n",
            "tensor([0., 0., 0., 0., 0., 0.])\n",
            "conv1.bias.grad after backward\n",
            "tensor([-0.0013, -0.0004,  0.0127, -0.0020,  0.0109,  0.0171])\n"
          ],
          "name": "stdout"
        }
      ]
    },
    {
      "cell_type": "markdown",
      "metadata": {
        "id": "E88CBS5E7xmR"
      },
      "source": [
        "Now, we have seen how to use loss functions.\r\n",
        "\r\n",
        "**Read Later:**\r\n",
        "\r\n",
        "  The neural network package contains various modules and loss functions\r\n",
        "  that form the building blocks of deep neural networks. A full list with\r\n",
        "  documentation is [here](https://pytorch.org/docs/stable/nn.html).\r\n",
        "\r\n",
        "**The only thing left to learn is:**\r\n",
        "\r\n",
        "  - Updating the weights of the network"
      ]
    },
    {
      "cell_type": "markdown",
      "metadata": {
        "id": "6JgtGOzHAF07"
      },
      "source": [
        "Update the weights\n",
        "------------------\n",
        "The simplest update rule used in practice is the Stochastic Gradient\n",
        "Descent (SGD):\n",
        "\n",
        "     weight = weight - learning_rate * gradient\n",
        "\n",
        "We can implement this using simple Python code:\n",
        "\n",
        "    learning_rate = 0.01\n",
        "    for f in net.parameters():\n",
        "        f.data.sub_(f.grad.data * learning_rate)\n",
        "\n",
        "However, as you use neural networks, you want to use various different\n",
        "update rules such as SGD, Nesterov-SGD, Adam, RMSProp, etc.\n",
        "To enable this, we built a small package: ``torch.optim`` that\n",
        "implements all these methods. Using it is very simple:\n",
        "\n"
      ]
    },
    {
      "cell_type": "code",
      "metadata": {
        "jupyter": {
          "outputs_hidden": false
        },
        "id": "FHjtei7OAF07"
      },
      "source": [
        "import torch.optim as optim\n",
        "\n",
        "# create your optimizer\n",
        "optimizer = optim.SGD(net.parameters(), lr=0.01)\n",
        "\n",
        "# in your training loop:\n",
        "optimizer.zero_grad()   # zero the gradient buffers\n",
        "output = net(input)\n",
        "loss = criterion(output, target)\n",
        "loss.backward()\n",
        "optimizer.step()    # Does the update"
      ],
      "execution_count": 9,
      "outputs": []
    },
    {
      "cell_type": "markdown",
      "metadata": {
        "id": "oH-OOop7AF07"
      },
      "source": [
        "---\n",
        "\n",
        "**Note**\n",
        "\n",
        "Observe how gradient buffers had to be manually set to zero using\n",
        "``optimizer.zero_grad()``. This is because gradients are accumulated\n",
        "as explained in the `Backprop`_ section.\n",
        "\n",
        "---\n"
      ]
    }
  ]
}